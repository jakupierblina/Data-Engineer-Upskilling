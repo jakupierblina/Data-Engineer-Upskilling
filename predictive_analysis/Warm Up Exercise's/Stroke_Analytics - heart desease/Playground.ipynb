{
 "cells": [
  {
   "cell_type": "code",
   "execution_count": 1,
   "id": "58a13edc-8681-488e-9877-670ffd492b6b",
   "metadata": {},
   "outputs": [],
   "source": [
    "import pandas as pd\n",
    "import matplotlib.pyplot as plt\n",
    "from sklearn.model_selection import train_test_split\n",
    "from sklearn.preprocessing import StandardScaler, LabelEncoder\n",
    "from sklearn.impute import SimpleImputer\n",
    "import seaborn as sns\n",
    "from sklearn.ensemble import RandomForestClassifier\n",
    "from sklearn.metrics import classification_report, confusion_matrix\n",
    "\n",
    "from sklearn.linear_model import LogisticRegression\n",
    "from sklearn.preprocessing import LabelEncoder\n",
    "from sklearn.metrics import classification_report, accuracy_score"
   ]
  },
  {
   "cell_type": "markdown",
   "id": "9396848b-b84f-409e-ae98-404cc2053e61",
   "metadata": {},
   "source": [
    "# Data processing"
   ]
  },
  {
   "cell_type": "code",
   "execution_count": 2,
   "id": "fd7571da-1647-478a-84ad-1a5e48eee1d0",
   "metadata": {},
   "outputs": [
    {
     "data": {
      "text/html": [
       "<div>\n",
       "<style scoped>\n",
       "    .dataframe tbody tr th:only-of-type {\n",
       "        vertical-align: middle;\n",
       "    }\n",
       "\n",
       "    .dataframe tbody tr th {\n",
       "        vertical-align: top;\n",
       "    }\n",
       "\n",
       "    .dataframe thead th {\n",
       "        text-align: right;\n",
       "    }\n",
       "</style>\n",
       "<table border=\"1\" class=\"dataframe\">\n",
       "  <thead>\n",
       "    <tr style=\"text-align: right;\">\n",
       "      <th></th>\n",
       "      <th>ID</th>\n",
       "      <th>Gjinia</th>\n",
       "      <th>Mosha</th>\n",
       "      <th>Hipertension</th>\n",
       "      <th>Semundje_zemres</th>\n",
       "      <th>Martuar_ndonjeher</th>\n",
       "      <th>Lloji_punesimit</th>\n",
       "      <th>Zona_jeteses</th>\n",
       "      <th>Mesatarja_glukozes_niveli</th>\n",
       "      <th>bmi</th>\n",
       "      <th>Duhanpirja</th>\n",
       "      <th>Infarkt</th>\n",
       "    </tr>\n",
       "  </thead>\n",
       "  <tbody>\n",
       "    <tr>\n",
       "      <th>0</th>\n",
       "      <td>9046</td>\n",
       "      <td>Male</td>\n",
       "      <td>67.0</td>\n",
       "      <td>Jo</td>\n",
       "      <td>Po</td>\n",
       "      <td>Po</td>\n",
       "      <td>Private</td>\n",
       "      <td>Urban</td>\n",
       "      <td>228.69</td>\n",
       "      <td>36.6</td>\n",
       "      <td>formerly smoked</td>\n",
       "      <td>1</td>\n",
       "    </tr>\n",
       "    <tr>\n",
       "      <th>1</th>\n",
       "      <td>51676</td>\n",
       "      <td>Female</td>\n",
       "      <td>61.0</td>\n",
       "      <td>Jo</td>\n",
       "      <td>Jo</td>\n",
       "      <td>Po</td>\n",
       "      <td>Self-employed</td>\n",
       "      <td>Rural</td>\n",
       "      <td>202.21</td>\n",
       "      <td>NaN</td>\n",
       "      <td>never smoked</td>\n",
       "      <td>1</td>\n",
       "    </tr>\n",
       "    <tr>\n",
       "      <th>2</th>\n",
       "      <td>31112</td>\n",
       "      <td>Male</td>\n",
       "      <td>80.0</td>\n",
       "      <td>Jo</td>\n",
       "      <td>Po</td>\n",
       "      <td>Po</td>\n",
       "      <td>Private</td>\n",
       "      <td>Rural</td>\n",
       "      <td>105.92</td>\n",
       "      <td>32.5</td>\n",
       "      <td>never smoked</td>\n",
       "      <td>1</td>\n",
       "    </tr>\n",
       "    <tr>\n",
       "      <th>3</th>\n",
       "      <td>60182</td>\n",
       "      <td>Female</td>\n",
       "      <td>49.0</td>\n",
       "      <td>Jo</td>\n",
       "      <td>Jo</td>\n",
       "      <td>Po</td>\n",
       "      <td>Private</td>\n",
       "      <td>Urban</td>\n",
       "      <td>171.23</td>\n",
       "      <td>34.4</td>\n",
       "      <td>smokes</td>\n",
       "      <td>1</td>\n",
       "    </tr>\n",
       "    <tr>\n",
       "      <th>4</th>\n",
       "      <td>1665</td>\n",
       "      <td>Female</td>\n",
       "      <td>79.0</td>\n",
       "      <td>Po</td>\n",
       "      <td>Jo</td>\n",
       "      <td>Po</td>\n",
       "      <td>Self-employed</td>\n",
       "      <td>Rural</td>\n",
       "      <td>174.12</td>\n",
       "      <td>24.0</td>\n",
       "      <td>never smoked</td>\n",
       "      <td>1</td>\n",
       "    </tr>\n",
       "    <tr>\n",
       "      <th>...</th>\n",
       "      <td>...</td>\n",
       "      <td>...</td>\n",
       "      <td>...</td>\n",
       "      <td>...</td>\n",
       "      <td>...</td>\n",
       "      <td>...</td>\n",
       "      <td>...</td>\n",
       "      <td>...</td>\n",
       "      <td>...</td>\n",
       "      <td>...</td>\n",
       "      <td>...</td>\n",
       "      <td>...</td>\n",
       "    </tr>\n",
       "    <tr>\n",
       "      <th>5105</th>\n",
       "      <td>18234</td>\n",
       "      <td>Female</td>\n",
       "      <td>80.0</td>\n",
       "      <td>Po</td>\n",
       "      <td>Jo</td>\n",
       "      <td>Po</td>\n",
       "      <td>Private</td>\n",
       "      <td>Urban</td>\n",
       "      <td>83.75</td>\n",
       "      <td>NaN</td>\n",
       "      <td>never smoked</td>\n",
       "      <td>0</td>\n",
       "    </tr>\n",
       "    <tr>\n",
       "      <th>5106</th>\n",
       "      <td>44873</td>\n",
       "      <td>Female</td>\n",
       "      <td>81.0</td>\n",
       "      <td>Jo</td>\n",
       "      <td>Jo</td>\n",
       "      <td>Po</td>\n",
       "      <td>Self-employed</td>\n",
       "      <td>Urban</td>\n",
       "      <td>125.20</td>\n",
       "      <td>40.0</td>\n",
       "      <td>never smoked</td>\n",
       "      <td>0</td>\n",
       "    </tr>\n",
       "    <tr>\n",
       "      <th>5107</th>\n",
       "      <td>19723</td>\n",
       "      <td>Female</td>\n",
       "      <td>35.0</td>\n",
       "      <td>Jo</td>\n",
       "      <td>Jo</td>\n",
       "      <td>Po</td>\n",
       "      <td>Self-employed</td>\n",
       "      <td>Rural</td>\n",
       "      <td>82.99</td>\n",
       "      <td>30.6</td>\n",
       "      <td>never smoked</td>\n",
       "      <td>0</td>\n",
       "    </tr>\n",
       "    <tr>\n",
       "      <th>5108</th>\n",
       "      <td>37544</td>\n",
       "      <td>Male</td>\n",
       "      <td>51.0</td>\n",
       "      <td>Jo</td>\n",
       "      <td>Jo</td>\n",
       "      <td>Po</td>\n",
       "      <td>Private</td>\n",
       "      <td>Rural</td>\n",
       "      <td>166.29</td>\n",
       "      <td>25.6</td>\n",
       "      <td>formerly smoked</td>\n",
       "      <td>0</td>\n",
       "    </tr>\n",
       "    <tr>\n",
       "      <th>5109</th>\n",
       "      <td>44679</td>\n",
       "      <td>Female</td>\n",
       "      <td>44.0</td>\n",
       "      <td>Jo</td>\n",
       "      <td>Jo</td>\n",
       "      <td>Po</td>\n",
       "      <td>Govt_job</td>\n",
       "      <td>Urban</td>\n",
       "      <td>85.28</td>\n",
       "      <td>26.2</td>\n",
       "      <td>Unknown</td>\n",
       "      <td>0</td>\n",
       "    </tr>\n",
       "  </tbody>\n",
       "</table>\n",
       "<p>5110 rows × 12 columns</p>\n",
       "</div>"
      ],
      "text/plain": [
       "         ID  Gjinia  Mosha Hipertension Semundje_zemres Martuar_ndonjeher  \\\n",
       "0      9046    Male   67.0           Jo              Po                Po   \n",
       "1     51676  Female   61.0           Jo              Jo                Po   \n",
       "2     31112    Male   80.0           Jo              Po                Po   \n",
       "3     60182  Female   49.0           Jo              Jo                Po   \n",
       "4      1665  Female   79.0           Po              Jo                Po   \n",
       "...     ...     ...    ...          ...             ...               ...   \n",
       "5105  18234  Female   80.0           Po              Jo                Po   \n",
       "5106  44873  Female   81.0           Jo              Jo                Po   \n",
       "5107  19723  Female   35.0           Jo              Jo                Po   \n",
       "5108  37544    Male   51.0           Jo              Jo                Po   \n",
       "5109  44679  Female   44.0           Jo              Jo                Po   \n",
       "\n",
       "     Lloji_punesimit Zona_jeteses  Mesatarja_glukozes_niveli   bmi  \\\n",
       "0            Private        Urban                     228.69  36.6   \n",
       "1      Self-employed        Rural                     202.21   NaN   \n",
       "2            Private        Rural                     105.92  32.5   \n",
       "3            Private        Urban                     171.23  34.4   \n",
       "4      Self-employed        Rural                     174.12  24.0   \n",
       "...              ...          ...                        ...   ...   \n",
       "5105         Private        Urban                      83.75   NaN   \n",
       "5106   Self-employed        Urban                     125.20  40.0   \n",
       "5107   Self-employed        Rural                      82.99  30.6   \n",
       "5108         Private        Rural                     166.29  25.6   \n",
       "5109        Govt_job        Urban                      85.28  26.2   \n",
       "\n",
       "           Duhanpirja  Infarkt  \n",
       "0     formerly smoked        1  \n",
       "1        never smoked        1  \n",
       "2        never smoked        1  \n",
       "3              smokes        1  \n",
       "4        never smoked        1  \n",
       "...               ...      ...  \n",
       "5105     never smoked        0  \n",
       "5106     never smoked        0  \n",
       "5107     never smoked        0  \n",
       "5108  formerly smoked        0  \n",
       "5109          Unknown        0  \n",
       "\n",
       "[5110 rows x 12 columns]"
      ]
     },
     "execution_count": 2,
     "metadata": {},
     "output_type": "execute_result"
    }
   ],
   "source": [
    "df = pd.read_csv('shenimet_infarktit.csv', sep=\"|\")\n",
    "df"
   ]
  },
  {
   "cell_type": "code",
   "execution_count": 3,
   "id": "db2659dd-9046-44ea-b8f9-d3d08aa0912f",
   "metadata": {},
   "outputs": [
    {
     "data": {
      "text/plain": [
       "Gjinia\n",
       "Female    0.047094\n",
       "Male      0.051064\n",
       "Other     0.000000\n",
       "Name: Infarkt, dtype: float64"
      ]
     },
     "execution_count": 3,
     "metadata": {},
     "output_type": "execute_result"
    }
   ],
   "source": [
    "# Convert categorical data to numeric where necessary\n",
    "df['Infarkt'] = df['Infarkt'].astype(int)\n",
    "\n",
    "# Group by gender and calculate the proportion of heart attacks\n",
    "heart_attack_by_gender = df.groupby('Gjinia')['Infarkt'].mean()\n",
    "\n",
    "# Display the result\n",
    "heart_attack_by_gender"
   ]
  },
  {
   "cell_type": "code",
   "execution_count": 4,
   "id": "41328c87-39a6-423e-9b2c-4f61753231d2",
   "metadata": {},
   "outputs": [],
   "source": [
    "df['bmi'].fillna(df['bmi'].mean(), inplace=True)\n"
   ]
  },
  {
   "cell_type": "code",
   "execution_count": 7,
   "id": "5d37a7ea-5607-4d66-9c00-2cf2a58c3ebd",
   "metadata": {},
   "outputs": [],
   "source": [
    "# Define feature columns and target column\n",
    "features = ['Gjinia', 'Mosha', 'Hipertension', 'Semundje_zemres', 'Martuar_ndonjeher', 'Zona_jeteses', 'Mesatarja_glukozes_niveli', 'bmi', 'Duhanpirja']\n",
    "target = 'Infarkt'\n",
    "\n",
    "# Handle missing values\n",
    "imputer = SimpleImputer(strategy='mean')\n",
    "df['bmi'] = imputer.fit_transform(df[['bmi']])\n",
    "\n",
    "# Encode categorical variables\n",
    "label_encoders = {}\n",
    "for column in df.select_dtypes(include=['object']).columns:\n",
    "    le = LabelEncoder()\n",
    "    df[column] = le.fit_transform(df[column])\n",
    "    label_encoders[column] = le\n",
    "\n",
    "# Split the data into training and testing sets\n",
    "X = df[features]\n",
    "y = df[target]\n",
    "X_train, X_test, y_train, y_test = train_test_split(X, y, test_size=0.2, random_state=42)\n",
    "\n",
    "# Scale the features\n",
    "scaler = StandardScaler()\n",
    "X_train = scaler.fit_transform(X_train)\n",
    "X_test = scaler.transform(X_test)"
   ]
  },
  {
   "cell_type": "markdown",
   "id": "9fc646f0-5f8c-43db-a033-c237a38fa6b7",
   "metadata": {},
   "source": [
    "# Data interpretation"
   ]
  },
  {
   "cell_type": "markdown",
   "id": "8961a2bd-5a57-4e11-9535-5685b2cfb5ec",
   "metadata": {},
   "source": [
    "####  How many female/male had heart-attack"
   ]
  },
  {
   "cell_type": "code",
   "execution_count": 8,
   "id": "c6eb4f1d-03f0-44d4-a27a-b47de93bf700",
   "metadata": {},
   "outputs": [
    {
     "data": {
      "text/plain": [
       "Gjinia\n",
       "0    141\n",
       "1    108\n",
       "Name: count, dtype: int64"
      ]
     },
     "execution_count": 8,
     "metadata": {},
     "output_type": "execute_result"
    }
   ],
   "source": [
    "infrakt_yes = df [df['Infarkt'] == 1 ]\n",
    "gender_counts = infrakt_yes['Gjinia'].value_counts()\n",
    "gender_counts"
   ]
  },
  {
   "cell_type": "code",
   "execution_count": 9,
   "id": "9620bda3-9213-45f8-9010-0ffb24870834",
   "metadata": {},
   "outputs": [
    {
     "data": {
      "image/png": "[encoded data removed]",
      "text/plain": [
       "<Figure size 1000x700 with 1 Axes>"
      ]
     },
     "metadata": {},
     "output_type": "display_data"
    }
   ],
   "source": [
    "plt.figure(figsize=(10, 7))\n",
    "plt.pie(gender_counts, labels=gender_counts.index, autopct='%1.1f%%', startangle=140, colors=['green', 'orange'])\n",
    "plt.title('Distribution of Infarct Cases by Gender')\n",
    "plt.axis('equal')  # Equal aspect ratio ensures that pie is drawn as a circle.\n",
    "plt.savefig('results/Distribution of Infarct Cases by Gender.png', format='png')\n",
    "plt.show()"
   ]
  },
  {
   "cell_type": "markdown",
   "id": "84690767-769c-4949-b12a-cccbd9ee8fb7",
   "metadata": {},
   "source": [
    "#### Group age of females that had infract"
   ]
  },
  {
   "cell_type": "code",
   "execution_count": 10,
   "id": "983f5252-2f63-404a-b07f-569048a0a27c",
   "metadata": {
    "scrolled": true
   },
   "outputs": [
    {
     "data": {
      "text/plain": [
       "Series([], Name: count, dtype: int64)"
      ]
     },
     "execution_count": 10,
     "metadata": {},
     "output_type": "execute_result"
    }
   ],
   "source": [
    "female_yes = infrakt_yes [ (infrakt_yes['Gjinia'] == 'Female') ]\n",
    "female_yes_counts = female_yes['Mosha'].value_counts()\n",
    "female_yes_counts"
   ]
  },
  {
   "cell_type": "code",
   "execution_count": 11,
   "id": "d5a61672-7d9c-4f23-a1bf-6240444103a9",
   "metadata": {},
   "outputs": [
    {
     "data": {
      "image/png": "[encoded data removed]",
      "text/plain": [
       "<Figure size 1000x700 with 1 Axes>"
      ]
     },
     "metadata": {},
     "output_type": "display_data"
    }
   ],
   "source": [
    "# Plot a bar chart\n",
    "plt.figure(figsize=(10, 7))\n",
    "plt.bar(female_yes_counts.index, female_yes_counts.values)\n",
    "plt.title('Group age of females that had infract')\n",
    "plt.xlabel('Age')\n",
    "plt.ylabel('Number of Cases')\n",
    "plt.savefig('results/Group age of females that had infract.png', format='png')\n",
    "plt.show()"
   ]
  },
  {
   "cell_type": "code",
   "execution_count": 12,
   "id": "a193597b-d9f5-4371-91e3-c1f1d1257c34",
   "metadata": {},
   "outputs": [
    {
     "data": {
      "text/plain": [
       "Duhanpirja\n",
       "2    90\n",
       "1    70\n",
       "0    47\n",
       "3    42\n",
       "Name: count, dtype: int64"
      ]
     },
     "execution_count": 12,
     "metadata": {},
     "output_type": "execute_result"
    }
   ],
   "source": [
    "infrakt_yes\n",
    "\n",
    "Duhanpirja_counts = infrakt_yes['Duhanpirja'].value_counts()\n",
    "Duhanpirja_counts"
   ]
  },
  {
   "cell_type": "code",
   "execution_count": 13,
   "id": "9c0cab29-bcad-4a79-90a9-461a418dff1b",
   "metadata": {},
   "outputs": [
    {
     "data": {
      "image/png": "[encoded data removed]",
      "text/plain": [
       "<Figure size 1000x700 with 1 Axes>"
      ]
     },
     "metadata": {},
     "output_type": "display_data"
    }
   ],
   "source": [
    "plt.figure(figsize=(10, 7))\n",
    "plt.pie(Duhanpirja_counts, labels=Duhanpirja_counts.index, autopct='%1.1f%%', startangle=140, colors=['#003f5c', '#58508d', '#bc5090', '#ff6361'])\n",
    "plt.title('Distribution of Infarct Cases by Smoking')\n",
    "plt.axis('equal')  # Equal aspect ratio ensures that pie is drawn as a circle.\n",
    "plt.savefig('results/Distribution of Infarct Cases by Smoking.png', format='png')\n",
    "plt.show()"
   ]
  },
  {
   "cell_type": "code",
   "execution_count": 14,
   "id": "3ebb6b83-e34b-4bba-866d-38aeb23a2f10",
   "metadata": {},
   "outputs": [
    {
     "data": {
      "image/png": "[encoded data removed]",
      "text/plain": [
       "<Figure size 1000x700 with 1 Axes>"
      ]
     },
     "metadata": {},
     "output_type": "display_data"
    }
   ],
   "source": [
    "infrakt_yes\n",
    "\n",
    "Hipertension_counts = infrakt_yes['Hipertension'].value_counts()\n",
    "#infrakt_yes_me_semundje = infrakt_yes [ (infrakt_yes['Hipertension'] == 'Po') ]\n",
    "plt.figure(figsize=(10, 7))\n",
    "plt.pie(Hipertension_counts, labels=Hipertension_counts.index, autopct='%1.1f%%', startangle=140,colors=['#de425b', '#a9b9a1'])\n",
    "plt.title('Distribution of Infarct Cases by Hipertension', pad=20)\n",
    "plt.axis('equal')  # Equal aspect ratio ensures that pie is drawn as a circle.\n",
    "plt.savefig('results/Distribution of Infarct Cases by Hipertension.png', format='png')\n",
    "plt.show()"
   ]
  },
  {
   "cell_type": "code",
   "execution_count": 15,
   "id": "6dff7822-31ab-4881-9a2f-187931b5dbe2",
   "metadata": {},
   "outputs": [
    {
     "data": {
      "text/html": [
       "<div>\n",
       "<style scoped>\n",
       "    .dataframe tbody tr th:only-of-type {\n",
       "        vertical-align: middle;\n",
       "    }\n",
       "\n",
       "    .dataframe tbody tr th {\n",
       "        vertical-align: top;\n",
       "    }\n",
       "\n",
       "    .dataframe thead th {\n",
       "        text-align: right;\n",
       "    }\n",
       "</style>\n",
       "<table border=\"1\" class=\"dataframe\">\n",
       "  <thead>\n",
       "    <tr style=\"text-align: right;\">\n",
       "      <th></th>\n",
       "      <th>ID</th>\n",
       "      <th>Gjinia</th>\n",
       "      <th>Mosha</th>\n",
       "      <th>Hipertension</th>\n",
       "      <th>Semundje_zemres</th>\n",
       "      <th>Martuar_ndonjeher</th>\n",
       "      <th>Lloji_punesimit</th>\n",
       "      <th>Zona_jeteses</th>\n",
       "      <th>Mesatarja_glukozes_niveli</th>\n",
       "      <th>bmi</th>\n",
       "      <th>Duhanpirja</th>\n",
       "      <th>Infarkt</th>\n",
       "    </tr>\n",
       "  </thead>\n",
       "  <tbody>\n",
       "    <tr>\n",
       "      <th>0</th>\n",
       "      <td>9046</td>\n",
       "      <td>1</td>\n",
       "      <td>67.0</td>\n",
       "      <td>0</td>\n",
       "      <td>1</td>\n",
       "      <td>1</td>\n",
       "      <td>2</td>\n",
       "      <td>1</td>\n",
       "      <td>228.69</td>\n",
       "      <td>36.600000</td>\n",
       "      <td>1</td>\n",
       "      <td>1</td>\n",
       "    </tr>\n",
       "    <tr>\n",
       "      <th>1</th>\n",
       "      <td>51676</td>\n",
       "      <td>0</td>\n",
       "      <td>61.0</td>\n",
       "      <td>0</td>\n",
       "      <td>0</td>\n",
       "      <td>1</td>\n",
       "      <td>3</td>\n",
       "      <td>0</td>\n",
       "      <td>202.21</td>\n",
       "      <td>28.893237</td>\n",
       "      <td>2</td>\n",
       "      <td>1</td>\n",
       "    </tr>\n",
       "    <tr>\n",
       "      <th>2</th>\n",
       "      <td>31112</td>\n",
       "      <td>1</td>\n",
       "      <td>80.0</td>\n",
       "      <td>0</td>\n",
       "      <td>1</td>\n",
       "      <td>1</td>\n",
       "      <td>2</td>\n",
       "      <td>0</td>\n",
       "      <td>105.92</td>\n",
       "      <td>32.500000</td>\n",
       "      <td>2</td>\n",
       "      <td>1</td>\n",
       "    </tr>\n",
       "    <tr>\n",
       "      <th>3</th>\n",
       "      <td>60182</td>\n",
       "      <td>0</td>\n",
       "      <td>49.0</td>\n",
       "      <td>0</td>\n",
       "      <td>0</td>\n",
       "      <td>1</td>\n",
       "      <td>2</td>\n",
       "      <td>1</td>\n",
       "      <td>171.23</td>\n",
       "      <td>34.400000</td>\n",
       "      <td>3</td>\n",
       "      <td>1</td>\n",
       "    </tr>\n",
       "    <tr>\n",
       "      <th>4</th>\n",
       "      <td>1665</td>\n",
       "      <td>0</td>\n",
       "      <td>79.0</td>\n",
       "      <td>1</td>\n",
       "      <td>0</td>\n",
       "      <td>1</td>\n",
       "      <td>3</td>\n",
       "      <td>0</td>\n",
       "      <td>174.12</td>\n",
       "      <td>24.000000</td>\n",
       "      <td>2</td>\n",
       "      <td>1</td>\n",
       "    </tr>\n",
       "    <tr>\n",
       "      <th>...</th>\n",
       "      <td>...</td>\n",
       "      <td>...</td>\n",
       "      <td>...</td>\n",
       "      <td>...</td>\n",
       "      <td>...</td>\n",
       "      <td>...</td>\n",
       "      <td>...</td>\n",
       "      <td>...</td>\n",
       "      <td>...</td>\n",
       "      <td>...</td>\n",
       "      <td>...</td>\n",
       "      <td>...</td>\n",
       "    </tr>\n",
       "    <tr>\n",
       "      <th>244</th>\n",
       "      <td>17739</td>\n",
       "      <td>1</td>\n",
       "      <td>57.0</td>\n",
       "      <td>0</td>\n",
       "      <td>0</td>\n",
       "      <td>1</td>\n",
       "      <td>2</td>\n",
       "      <td>0</td>\n",
       "      <td>84.96</td>\n",
       "      <td>36.700000</td>\n",
       "      <td>0</td>\n",
       "      <td>1</td>\n",
       "    </tr>\n",
       "    <tr>\n",
       "      <th>245</th>\n",
       "      <td>49669</td>\n",
       "      <td>0</td>\n",
       "      <td>14.0</td>\n",
       "      <td>0</td>\n",
       "      <td>0</td>\n",
       "      <td>0</td>\n",
       "      <td>4</td>\n",
       "      <td>0</td>\n",
       "      <td>57.93</td>\n",
       "      <td>30.900000</td>\n",
       "      <td>0</td>\n",
       "      <td>1</td>\n",
       "    </tr>\n",
       "    <tr>\n",
       "      <th>246</th>\n",
       "      <td>27153</td>\n",
       "      <td>0</td>\n",
       "      <td>75.0</td>\n",
       "      <td>0</td>\n",
       "      <td>0</td>\n",
       "      <td>1</td>\n",
       "      <td>3</td>\n",
       "      <td>0</td>\n",
       "      <td>78.80</td>\n",
       "      <td>29.300000</td>\n",
       "      <td>1</td>\n",
       "      <td>1</td>\n",
       "    </tr>\n",
       "    <tr>\n",
       "      <th>247</th>\n",
       "      <td>34060</td>\n",
       "      <td>1</td>\n",
       "      <td>71.0</td>\n",
       "      <td>1</td>\n",
       "      <td>0</td>\n",
       "      <td>1</td>\n",
       "      <td>3</td>\n",
       "      <td>0</td>\n",
       "      <td>87.80</td>\n",
       "      <td>28.893237</td>\n",
       "      <td>0</td>\n",
       "      <td>1</td>\n",
       "    </tr>\n",
       "    <tr>\n",
       "      <th>248</th>\n",
       "      <td>43424</td>\n",
       "      <td>0</td>\n",
       "      <td>78.0</td>\n",
       "      <td>0</td>\n",
       "      <td>0</td>\n",
       "      <td>1</td>\n",
       "      <td>2</td>\n",
       "      <td>0</td>\n",
       "      <td>78.81</td>\n",
       "      <td>19.600000</td>\n",
       "      <td>0</td>\n",
       "      <td>1</td>\n",
       "    </tr>\n",
       "  </tbody>\n",
       "</table>\n",
       "<p>249 rows × 12 columns</p>\n",
       "</div>"
      ],
      "text/plain": [
       "        ID  Gjinia  Mosha  Hipertension  Semundje_zemres  Martuar_ndonjeher  \\\n",
       "0     9046       1   67.0             0                1                  1   \n",
       "1    51676       0   61.0             0                0                  1   \n",
       "2    31112       1   80.0             0                1                  1   \n",
       "3    60182       0   49.0             0                0                  1   \n",
       "4     1665       0   79.0             1                0                  1   \n",
       "..     ...     ...    ...           ...              ...                ...   \n",
       "244  17739       1   57.0             0                0                  1   \n",
       "245  49669       0   14.0             0                0                  0   \n",
       "246  27153       0   75.0             0                0                  1   \n",
       "247  34060       1   71.0             1                0                  1   \n",
       "248  43424       0   78.0             0                0                  1   \n",
       "\n",
       "     Lloji_punesimit  Zona_jeteses  Mesatarja_glukozes_niveli        bmi  \\\n",
       "0                  2             1                     228.69  36.600000   \n",
       "1                  3             0                     202.21  28.893237   \n",
       "2                  2             0                     105.92  32.500000   \n",
       "3                  2             1                     171.23  34.400000   \n",
       "4                  3             0                     174.12  24.000000   \n",
       "..               ...           ...                        ...        ...   \n",
       "244                2             0                      84.96  36.700000   \n",
       "245                4             0                      57.93  30.900000   \n",
       "246                3             0                      78.80  29.300000   \n",
       "247                3             0                      87.80  28.893237   \n",
       "248                2             0                      78.81  19.600000   \n",
       "\n",
       "     Duhanpirja  Infarkt  \n",
       "0             1        1  \n",
       "1             2        1  \n",
       "2             2        1  \n",
       "3             3        1  \n",
       "4             2        1  \n",
       "..          ...      ...  \n",
       "244           0        1  \n",
       "245           0        1  \n",
       "246           1        1  \n",
       "247           0        1  \n",
       "248           0        1  \n",
       "\n",
       "[249 rows x 12 columns]"
      ]
     },
     "execution_count": 15,
     "metadata": {},
     "output_type": "execute_result"
    }
   ],
   "source": [
    "infrakt_yes\n"
   ]
  },
  {
   "cell_type": "code",
   "execution_count": 16,
   "id": "48000791-6781-4f3e-9411-c95d0600cdfb",
   "metadata": {},
   "outputs": [
    {
     "data": {
      "text/plain": [
       "Series([], dtype: int64)"
      ]
     },
     "execution_count": 16,
     "metadata": {},
     "output_type": "execute_result"
    }
   ],
   "source": [
    "infrakt_yes_me_semundje = infrakt_yes [ (infrakt_yes['Hipertension'] == 'Po') & (infrakt_yes['Semundje_zemres'] == 'Po') ]\n",
    "\n",
    "grouped_by_gjinia = infrakt_yes_me_semundje.groupby('Gjinia').size()\n",
    "grouped_by_gjinia"
   ]
  },
  {
   "cell_type": "code",
   "execution_count": 17,
   "id": "ec10818f-ee38-48da-9c79-0fc843d0f112",
   "metadata": {},
   "outputs": [
    {
     "data": {
      "image/png": "[encoded data removed]",
      "text/plain": [
       "<Figure size 1000x700 with 1 Axes>"
      ]
     },
     "metadata": {},
     "output_type": "display_data"
    }
   ],
   "source": [
    "plt.figure(figsize=(10, 7))\n",
    "\n",
    "\n",
    "plt.bar(grouped_by_gjinia.index, grouped_by_gjinia.values, color=['#da8b8f', '#a9b9a1'])\n",
    "\n",
    "plt.title('Distribution of Infarct Cases me Semundje te zemres dhe hipertension based on Gender', pad=20)\n",
    "plt.xlabel('Gjinia')\n",
    "plt.ylabel('Number of Cases')\n",
    "plt.savefig('results/Distribution of Infarct Cases me Semundje te zemres dhe hipertension based on Gender.png', format='png')\n",
    "plt.show()\n",
    "\n",
    "\n"
   ]
  },
  {
   "cell_type": "markdown",
   "id": "b89acfb0-9ad5-4810-bc61-fcf9f1881108",
   "metadata": {},
   "source": [
    "#### Sa femra kishin tension, semundje te zemres por asnjeher infrakt?"
   ]
  },
  {
   "cell_type": "code",
   "execution_count": 18,
   "id": "7212f985-2a3b-4fac-a595-b30a03d09a94",
   "metadata": {},
   "outputs": [
    {
     "data": {
      "image/png": "[encoded data removed]",
      "text/plain": [
       "<Figure size 1000x700 with 1 Axes>"
      ]
     },
     "metadata": {},
     "output_type": "display_data"
    }
   ],
   "source": [
    "# Filter the DataFrames\n",
    "df_female1 = df[(df['Gjinia'] == 'Female') & (df['Semundje_zemres'] == 'Po') & (df['Hipertension'] == 'Po') & (df['Infarkt'] == 0)]\n",
    "df_female0 = df[(df['Gjinia'] == 'Female') & (df['Semundje_zemres'] == 'Po') & (df['Hipertension'] == 'Po') & (df['Infarkt'] == 1)]\n",
    "\n",
    "\n",
    "# Count the occurrences\n",
    "counts = [len(df_female1), len(df_female0)]\n",
    "labels = ['No Infarkt', 'Infarkt']\n",
    "\n",
    "# Plotting the bar chart\n",
    "plt.figure(figsize=(10, 7))\n",
    "plt.bar(labels, counts, color=['#6b9d57', '#a9b9a1'])\n",
    "plt.title('Comparison of Females with Heart Disease and Hypertension by Infarct Status')\n",
    "plt.xlabel('Infarct Status')\n",
    "plt.ylabel('Number of Cases')\n",
    "plt.savefig('results/Comparison_of_Females_with_Heart_Disease_and_Hypertension_by_Infarct_Status.png', format='png')\n",
    "plt.show()"
   ]
  },
  {
   "cell_type": "markdown",
   "id": "215d4ec6-d468-435f-b654-d2e3aae1bcf6",
   "metadata": {},
   "source": [
    "#### Sa njerz kishin tension, semundje te zemres por asnjeher infrakt?"
   ]
  },
  {
   "cell_type": "code",
   "execution_count": 105,
   "id": "26a26df8-0dd7-4275-ae4c-c97d8e0f78e6",
   "metadata": {},
   "outputs": [
    {
     "data": {
      "text/plain": [
       "<Figure size 1000x700 with 0 Axes>"
      ]
     },
     "metadata": {},
     "output_type": "display_data"
    },
    {
     "data": {
      "image/png": "[encoded data removed]",
      "text/plain": [
       "<Figure size 640x480 with 1 Axes>"
      ]
     },
     "metadata": {},
     "output_type": "display_data"
    }
   ],
   "source": [
    "# Filter the DataFrames\n",
    "df1 = df[ (df['Semundje_zemres'] == 'Po') & (df['Hipertension'] == 'Po') & (df['Infarkt'] == 0)]\n",
    "df0 = df[ (df['Semundje_zemres'] == 'Po') & (df['Hipertension'] == 'Po') & (df['Infarkt'] == 1)]\n",
    "\n",
    "\n",
    "# Count the occurrences for each gender and infarct status\n",
    "counts_no_infarct = df1['Gjinia'].value_counts()\n",
    "counts_infarct = df0['Gjinia'].value_counts()\n",
    "\n",
    "# Combine the counts into a DataFrame\n",
    "counts_df = pd.DataFrame({\n",
    "    'No Infarkt': counts_no_infarct,\n",
    "    'Infarkt': counts_infarct\n",
    "}).fillna(0)\n",
    "\n",
    "# Plotting the grouped bar chart\n",
    "plt.figure(figsize=(10, 7))\n",
    "counts_df.plot(kind='bar', color=['#6b9d57', '#a9b9a1'])\n",
    "plt.title('Comparison of Heart Disease and Hypertension by Infarct Status and Gender')\n",
    "plt.xlabel('Gender')\n",
    "plt.ylabel('Number of Cases')\n",
    "plt.xticks(rotation=0)\n",
    "plt.savefig('results/Comparison_of_Heart_Disease_and_Hypertension_by_Infarct_Status_and_Gender.png', format='png')\n",
    "plt.show()"
   ]
  },
  {
   "cell_type": "markdown",
   "id": "6ee9e372-60d7-405e-ab1b-e81fbe9e2058",
   "metadata": {},
   "source": [
    "# Model classifier to find the causes of heart attack"
   ]
  },
  {
   "cell_type": "code",
   "execution_count": 119,
   "id": "b68a863c-bc6a-4bde-b64d-30718cc0fded",
   "metadata": {},
   "outputs": [
    {
     "name": "stdout",
     "output_type": "stream",
     "text": [
      "Classification Report:\n",
      "               precision    recall  f1-score   support\n",
      "\n",
      "           0       0.94      1.00      0.97       960\n",
      "           1       0.25      0.02      0.03        62\n",
      "\n",
      "    accuracy                           0.94      1022\n",
      "   macro avg       0.60      0.51      0.50      1022\n",
      "weighted avg       0.90      0.94      0.91      1022\n",
      "\n",
      "Confusion Matrix:\n",
      " [[957   3]\n",
      " [ 61   1]]\n"
     ]
    }
   ],
   "source": [
    "# Initialize the model\n",
    "model = RandomForestClassifier(random_state=42)\n",
    "\n",
    "# Train the model\n",
    "model.fit(X_train, y_train)\n",
    "\n",
    "# Make predictions\n",
    "y_pred = model.predict(X_test)\n",
    "\n",
    "# Evaluate the model\n",
    "print(\"Classification Report:\\n\", classification_report(y_test, y_pred))\n",
    "print(\"Confusion Matrix:\\n\", confusion_matrix(y_test, y_pred))\n"
   ]
  },
  {
   "cell_type": "code",
   "execution_count": 120,
   "id": "0392b73e-8e52-4e87-b2d3-c3100aec016b",
   "metadata": {},
   "outputs": [
    {
     "data": {
      "image/png": "[encoded data removed]",
      "text/plain": [
       "<Figure size 800x600 with 2 Axes>"
      ]
     },
     "metadata": {},
     "output_type": "display_data"
    }
   ],
   "source": [
    "# Confusion matrix heatmap\n",
    "conf_matrix = confusion_matrix(y_test, y_pred)\n",
    "plt.figure(figsize=(8, 6))\n",
    "sns.heatmap(conf_matrix, annot=True, fmt='d', cmap='Blues', xticklabels=['No Infarkt', 'Infarkt'], yticklabels=['No Infarkt', 'Infarkt'])\n",
    "plt.xlabel('Predicted')\n",
    "plt.ylabel('Actual')\n",
    "plt.title('Confusion Matrix')\n",
    "plt.show()\n"
   ]
  },
  {
   "cell_type": "code",
   "execution_count": 121,
   "id": "97332e23-8294-4dcc-98d0-96258341a328",
   "metadata": {},
   "outputs": [
    {
     "data": {
      "image/png": "[encoded data removed]",
      "text/plain": [
       "<Figure size 1000x600 with 1 Axes>"
      ]
     },
     "metadata": {},
     "output_type": "display_data"
    }
   ],
   "source": [
    "# Feature importance\n",
    "feature_importances = pd.Series(model.feature_importances_, index=features)\n",
    "feature_importances.sort_values(ascending=False).plot(kind='bar', figsize=(10, 6), color = ['#488f31', '#7a9c33', '#a6a73e','#cfb251', '#de425b', '#f5bc6b', '#f4a05c', '#f18255', '#ea6356'])\n",
    "plt.title('Feature Importances')\n",
    "plt.savefig('results/Model_classifier_for Feature Importances.png', format='png')\n",
    "\n",
    "plt.show()\n"
   ]
  },
  {
   "cell_type": "markdown",
   "id": "bda78958-efc0-4694-b981-e541f3ed15c3",
   "metadata": {},
   "source": [
    "### Predict how common more likely to get heart attack female or male"
   ]
  },
  {
   "cell_type": "code",
   "execution_count": 33,
   "id": "e1093379-66dd-4825-a0d8-ea7453e01ca1",
   "metadata": {},
   "outputs": [],
   "source": [
    "# Encode categorical variables\n",
    "label_encoder = LabelEncoder()\n",
    "df['Hipertension'] = label_encoder.fit_transform(df['Hipertension'])\n",
    "df['Semundje_zemres'] = label_encoder.fit_transform(df['Semundje_zemres'])\n",
    "df['Duhanpirja'] = label_encoder.fit_transform(df['Duhanpirja'])"
   ]
  },
  {
   "cell_type": "code",
   "execution_count": 34,
   "id": "acea0276-5888-4846-b053-a032940ba0c5",
   "metadata": {},
   "outputs": [],
   "source": [
    "# Define features and target variable\n",
    "X = df[[ 'Mosha', 'Hipertension', 'Semundje_zemres',   'Mesatarja_glukozes_niveli', 'bmi', 'Duhanpirja']]\n",
    "y = df['Infarkt']\n",
    "\n",
    "# Split the data into training and testing sets\n",
    "X_train, X_test, y_train, y_test = train_test_split(X, y, test_size=0.3, random_state=42)"
   ]
  },
  {
   "cell_type": "code",
   "execution_count": 35,
   "id": "679a545a-192e-46de-a27d-c2e3426b21b5",
   "metadata": {},
   "outputs": [],
   "source": [
    "# Initialize the logistic regression model\n",
    "log_reg = LogisticRegression(max_iter=1000)\n",
    "\n",
    "# Train the model\n",
    "log_reg.fit(X_train, y_train)\n",
    "\n",
    "# Make predictions on the test set\n",
    "y_pred = log_reg.predict(X_test)"
   ]
  },
  {
   "cell_type": "code",
   "execution_count": 36,
   "id": "3607ac9f-7b2f-4ddb-952f-01fccc081d27",
   "metadata": {},
   "outputs": [
    {
     "name": "stderr",
     "output_type": "stream",
     "text": [
      "/home/blina/anaconda3/lib/python3.9/site-packages/sklearn/metrics/_classification.py:1469: UndefinedMetricWarning: Precision and F-score are ill-defined and being set to 0.0 in labels with no predicted samples. Use `zero_division` parameter to control this behavior.\n",
      "  _warn_prf(average, modifier, msg_start, len(result))\n",
      "/home/blina/anaconda3/lib/python3.9/site-packages/sklearn/metrics/_classification.py:1469: UndefinedMetricWarning: Precision and F-score are ill-defined and being set to 0.0 in labels with no predicted samples. Use `zero_division` parameter to control this behavior.\n",
      "  _warn_prf(average, modifier, msg_start, len(result))\n",
      "/home/blina/anaconda3/lib/python3.9/site-packages/sklearn/metrics/_classification.py:1469: UndefinedMetricWarning: Precision and F-score are ill-defined and being set to 0.0 in labels with no predicted samples. Use `zero_division` parameter to control this behavior.\n",
      "  _warn_prf(average, modifier, msg_start, len(result))\n"
     ]
    },
    {
     "data": {
      "text/plain": [
       "0.9419439008480104"
      ]
     },
     "execution_count": 36,
     "metadata": {},
     "output_type": "execute_result"
    }
   ],
   "source": [
    "# Evaluate the model's performance\n",
    "accuracy = accuracy_score(y_test, y_pred)\n",
    "report = classification_report(y_test, y_pred, target_names=['No Heart Attack', 'Heart Attack'])\n",
    "\n",
    "accuracy"
   ]
  },
  {
   "cell_type": "code",
   "execution_count": 37,
   "id": "2456344d-590b-40d4-a4ba-b2d375be016d",
   "metadata": {},
   "outputs": [
    {
     "data": {
      "text/plain": [
       "'                 precision    recall  f1-score   support\\n\\nNo Heart Attack       0.94      1.00      0.97      1444\\n   Heart Attack       0.00      0.00      0.00        89\\n\\n       accuracy                           0.94      1533\\n      macro avg       0.47      0.50      0.49      1533\\n   weighted avg       0.89      0.94      0.91      1533\\n'"
      ]
     },
     "execution_count": 37,
     "metadata": {},
     "output_type": "execute_result"
    }
   ],
   "source": [
    "report"
   ]
  },
  {
   "cell_type": "code",
   "execution_count": 38,
   "id": "fd6c46a5-ff54-4ac6-882f-bf5f7a2a93e5",
   "metadata": {},
   "outputs": [
    {
     "data": {
      "text/html": [
       "<div>\n",
       "<style scoped>\n",
       "    .dataframe tbody tr th:only-of-type {\n",
       "        vertical-align: middle;\n",
       "    }\n",
       "\n",
       "    .dataframe tbody tr th {\n",
       "        vertical-align: top;\n",
       "    }\n",
       "\n",
       "    .dataframe thead th {\n",
       "        text-align: right;\n",
       "    }\n",
       "</style>\n",
       "<table border=\"1\" class=\"dataframe\">\n",
       "  <thead>\n",
       "    <tr style=\"text-align: right;\">\n",
       "      <th></th>\n",
       "      <th>Feature</th>\n",
       "      <th>Coefficient</th>\n",
       "    </tr>\n",
       "  </thead>\n",
       "  <tbody>\n",
       "    <tr>\n",
       "      <th>0</th>\n",
       "      <td>Mosha</td>\n",
       "      <td>0.068839</td>\n",
       "    </tr>\n",
       "    <tr>\n",
       "      <th>1</th>\n",
       "      <td>Hipertension</td>\n",
       "      <td>0.326540</td>\n",
       "    </tr>\n",
       "    <tr>\n",
       "      <th>2</th>\n",
       "      <td>Semundje_zemres</td>\n",
       "      <td>0.320808</td>\n",
       "    </tr>\n",
       "    <tr>\n",
       "      <th>3</th>\n",
       "      <td>Mesatarja_glukozes_niveli</td>\n",
       "      <td>0.004198</td>\n",
       "    </tr>\n",
       "    <tr>\n",
       "      <th>4</th>\n",
       "      <td>bmi</td>\n",
       "      <td>-0.001621</td>\n",
       "    </tr>\n",
       "    <tr>\n",
       "      <th>5</th>\n",
       "      <td>Duhanpirja</td>\n",
       "      <td>0.025766</td>\n",
       "    </tr>\n",
       "  </tbody>\n",
       "</table>\n",
       "</div>"
      ],
      "text/plain": [
       "                     Feature  Coefficient\n",
       "0                      Mosha     0.068839\n",
       "1               Hipertension     0.326540\n",
       "2            Semundje_zemres     0.320808\n",
       "3  Mesatarja_glukozes_niveli     0.004198\n",
       "4                        bmi    -0.001621\n",
       "5                 Duhanpirja     0.025766"
      ]
     },
     "execution_count": 38,
     "metadata": {},
     "output_type": "execute_result"
    }
   ],
   "source": [
    "# Get the coefficients and the corresponding feature names\n",
    "coefficients = pd.DataFrame({'Feature': X.columns, 'Coefficient': log_reg.coef_[0]})\n",
    "\n",
    "coefficients"
   ]
  },
  {
   "cell_type": "markdown",
   "id": "d7687fc5-fe3e-4ac8-99be-9a46f87f75fc",
   "metadata": {},
   "source": [
    "### Random forest for predicting who is more more likely to get heart attack female or male"
   ]
  },
  {
   "cell_type": "code",
   "execution_count": 88,
   "id": "f4815882-fd7b-4896-beda-bae98b0935b3",
   "metadata": {},
   "outputs": [
    {
     "data": {
      "text/html": [
       "<div>\n",
       "<style scoped>\n",
       "    .dataframe tbody tr th:only-of-type {\n",
       "        vertical-align: middle;\n",
       "    }\n",
       "\n",
       "    .dataframe tbody tr th {\n",
       "        vertical-align: top;\n",
       "    }\n",
       "\n",
       "    .dataframe thead th {\n",
       "        text-align: right;\n",
       "    }\n",
       "</style>\n",
       "<table border=\"1\" class=\"dataframe\">\n",
       "  <thead>\n",
       "    <tr style=\"text-align: right;\">\n",
       "      <th></th>\n",
       "      <th>ID</th>\n",
       "      <th>Gjinia</th>\n",
       "      <th>Mosha</th>\n",
       "      <th>Hipertension</th>\n",
       "      <th>Semundje_zemres</th>\n",
       "      <th>Martuar_ndonjeher</th>\n",
       "      <th>Lloji_punesimit</th>\n",
       "      <th>Zona_jeteses</th>\n",
       "      <th>Mesatarja_glukozes_niveli</th>\n",
       "      <th>bmi</th>\n",
       "      <th>Duhanpirja</th>\n",
       "      <th>Infarkt</th>\n",
       "    </tr>\n",
       "  </thead>\n",
       "  <tbody>\n",
       "    <tr>\n",
       "      <th>0</th>\n",
       "      <td>9046</td>\n",
       "      <td>Male</td>\n",
       "      <td>67.0</td>\n",
       "      <td>Jo</td>\n",
       "      <td>Po</td>\n",
       "      <td>Po</td>\n",
       "      <td>Private</td>\n",
       "      <td>Urban</td>\n",
       "      <td>228.69</td>\n",
       "      <td>36.6</td>\n",
       "      <td>formerly smoked</td>\n",
       "      <td>1</td>\n",
       "    </tr>\n",
       "    <tr>\n",
       "      <th>1</th>\n",
       "      <td>51676</td>\n",
       "      <td>Female</td>\n",
       "      <td>61.0</td>\n",
       "      <td>Jo</td>\n",
       "      <td>Jo</td>\n",
       "      <td>Po</td>\n",
       "      <td>Self-employed</td>\n",
       "      <td>Rural</td>\n",
       "      <td>202.21</td>\n",
       "      <td>NaN</td>\n",
       "      <td>never smoked</td>\n",
       "      <td>1</td>\n",
       "    </tr>\n",
       "    <tr>\n",
       "      <th>2</th>\n",
       "      <td>31112</td>\n",
       "      <td>Male</td>\n",
       "      <td>80.0</td>\n",
       "      <td>Jo</td>\n",
       "      <td>Po</td>\n",
       "      <td>Po</td>\n",
       "      <td>Private</td>\n",
       "      <td>Rural</td>\n",
       "      <td>105.92</td>\n",
       "      <td>32.5</td>\n",
       "      <td>never smoked</td>\n",
       "      <td>1</td>\n",
       "    </tr>\n",
       "    <tr>\n",
       "      <th>3</th>\n",
       "      <td>60182</td>\n",
       "      <td>Female</td>\n",
       "      <td>49.0</td>\n",
       "      <td>Jo</td>\n",
       "      <td>Jo</td>\n",
       "      <td>Po</td>\n",
       "      <td>Private</td>\n",
       "      <td>Urban</td>\n",
       "      <td>171.23</td>\n",
       "      <td>34.4</td>\n",
       "      <td>smokes</td>\n",
       "      <td>1</td>\n",
       "    </tr>\n",
       "    <tr>\n",
       "      <th>4</th>\n",
       "      <td>1665</td>\n",
       "      <td>Female</td>\n",
       "      <td>79.0</td>\n",
       "      <td>Po</td>\n",
       "      <td>Jo</td>\n",
       "      <td>Po</td>\n",
       "      <td>Self-employed</td>\n",
       "      <td>Rural</td>\n",
       "      <td>174.12</td>\n",
       "      <td>24.0</td>\n",
       "      <td>never smoked</td>\n",
       "      <td>1</td>\n",
       "    </tr>\n",
       "    <tr>\n",
       "      <th>...</th>\n",
       "      <td>...</td>\n",
       "      <td>...</td>\n",
       "      <td>...</td>\n",
       "      <td>...</td>\n",
       "      <td>...</td>\n",
       "      <td>...</td>\n",
       "      <td>...</td>\n",
       "      <td>...</td>\n",
       "      <td>...</td>\n",
       "      <td>...</td>\n",
       "      <td>...</td>\n",
       "      <td>...</td>\n",
       "    </tr>\n",
       "    <tr>\n",
       "      <th>5105</th>\n",
       "      <td>18234</td>\n",
       "      <td>Female</td>\n",
       "      <td>80.0</td>\n",
       "      <td>Po</td>\n",
       "      <td>Jo</td>\n",
       "      <td>Po</td>\n",
       "      <td>Private</td>\n",
       "      <td>Urban</td>\n",
       "      <td>83.75</td>\n",
       "      <td>NaN</td>\n",
       "      <td>never smoked</td>\n",
       "      <td>0</td>\n",
       "    </tr>\n",
       "    <tr>\n",
       "      <th>5106</th>\n",
       "      <td>44873</td>\n",
       "      <td>Female</td>\n",
       "      <td>81.0</td>\n",
       "      <td>Jo</td>\n",
       "      <td>Jo</td>\n",
       "      <td>Po</td>\n",
       "      <td>Self-employed</td>\n",
       "      <td>Urban</td>\n",
       "      <td>125.20</td>\n",
       "      <td>40.0</td>\n",
       "      <td>never smoked</td>\n",
       "      <td>0</td>\n",
       "    </tr>\n",
       "    <tr>\n",
       "      <th>5107</th>\n",
       "      <td>19723</td>\n",
       "      <td>Female</td>\n",
       "      <td>35.0</td>\n",
       "      <td>Jo</td>\n",
       "      <td>Jo</td>\n",
       "      <td>Po</td>\n",
       "      <td>Self-employed</td>\n",
       "      <td>Rural</td>\n",
       "      <td>82.99</td>\n",
       "      <td>30.6</td>\n",
       "      <td>never smoked</td>\n",
       "      <td>0</td>\n",
       "    </tr>\n",
       "    <tr>\n",
       "      <th>5108</th>\n",
       "      <td>37544</td>\n",
       "      <td>Male</td>\n",
       "      <td>51.0</td>\n",
       "      <td>Jo</td>\n",
       "      <td>Jo</td>\n",
       "      <td>Po</td>\n",
       "      <td>Private</td>\n",
       "      <td>Rural</td>\n",
       "      <td>166.29</td>\n",
       "      <td>25.6</td>\n",
       "      <td>formerly smoked</td>\n",
       "      <td>0</td>\n",
       "    </tr>\n",
       "    <tr>\n",
       "      <th>5109</th>\n",
       "      <td>44679</td>\n",
       "      <td>Female</td>\n",
       "      <td>44.0</td>\n",
       "      <td>Jo</td>\n",
       "      <td>Jo</td>\n",
       "      <td>Po</td>\n",
       "      <td>Govt_job</td>\n",
       "      <td>Urban</td>\n",
       "      <td>85.28</td>\n",
       "      <td>26.2</td>\n",
       "      <td>Unknown</td>\n",
       "      <td>0</td>\n",
       "    </tr>\n",
       "  </tbody>\n",
       "</table>\n",
       "<p>5110 rows × 12 columns</p>\n",
       "</div>"
      ],
      "text/plain": [
       "         ID  Gjinia  Mosha Hipertension Semundje_zemres Martuar_ndonjeher  \\\n",
       "0      9046    Male   67.0           Jo              Po                Po   \n",
       "1     51676  Female   61.0           Jo              Jo                Po   \n",
       "2     31112    Male   80.0           Jo              Po                Po   \n",
       "3     60182  Female   49.0           Jo              Jo                Po   \n",
       "4      1665  Female   79.0           Po              Jo                Po   \n",
       "...     ...     ...    ...          ...             ...               ...   \n",
       "5105  18234  Female   80.0           Po              Jo                Po   \n",
       "5106  44873  Female   81.0           Jo              Jo                Po   \n",
       "5107  19723  Female   35.0           Jo              Jo                Po   \n",
       "5108  37544    Male   51.0           Jo              Jo                Po   \n",
       "5109  44679  Female   44.0           Jo              Jo                Po   \n",
       "\n",
       "     Lloji_punesimit Zona_jeteses  Mesatarja_glukozes_niveli   bmi  \\\n",
       "0            Private        Urban                     228.69  36.6   \n",
       "1      Self-employed        Rural                     202.21   NaN   \n",
       "2            Private        Rural                     105.92  32.5   \n",
       "3            Private        Urban                     171.23  34.4   \n",
       "4      Self-employed        Rural                     174.12  24.0   \n",
       "...              ...          ...                        ...   ...   \n",
       "5105         Private        Urban                      83.75   NaN   \n",
       "5106   Self-employed        Urban                     125.20  40.0   \n",
       "5107   Self-employed        Rural                      82.99  30.6   \n",
       "5108         Private        Rural                     166.29  25.6   \n",
       "5109        Govt_job        Urban                      85.28  26.2   \n",
       "\n",
       "           Duhanpirja  Infarkt  \n",
       "0     formerly smoked        1  \n",
       "1        never smoked        1  \n",
       "2        never smoked        1  \n",
       "3              smokes        1  \n",
       "4        never smoked        1  \n",
       "...               ...      ...  \n",
       "5105     never smoked        0  \n",
       "5106     never smoked        0  \n",
       "5107     never smoked        0  \n",
       "5108  formerly smoked        0  \n",
       "5109          Unknown        0  \n",
       "\n",
       "[5110 rows x 12 columns]"
      ]
     },
     "execution_count": 88,
     "metadata": {},
     "output_type": "execute_result"
    }
   ],
   "source": [
    "df"
   ]
  },
  {
   "cell_type": "code",
   "execution_count": 20,
   "id": "a7edbcb5-7b8e-41d7-b691-b2490e152073",
   "metadata": {},
   "outputs": [],
   "source": [
    "# Data Processing\n",
    "import pandas as pd\n",
    "import numpy as np\n",
    "\n",
    "# Modelling\n",
    "from sklearn.ensemble import RandomForestClassifier\n",
    "from sklearn.metrics import accuracy_score, confusion_matrix, precision_score, recall_score, ConfusionMatrixDisplay\n",
    "from sklearn.model_selection import RandomizedSearchCV, train_test_split\n",
    "from scipy.stats import randint\n",
    "\n",
    "# Tree Visualisation\n",
    "from sklearn.tree import export_graphviz\n",
    "from IPython.display import Image\n"
   ]
  },
  {
   "cell_type": "code",
   "execution_count": 21,
   "id": "8b49c958-0c2b-4fd8-b15d-43be992e01ac",
   "metadata": {},
   "outputs": [
    {
     "data": {
      "text/html": [
       "<div>\n",
       "<style scoped>\n",
       "    .dataframe tbody tr th:only-of-type {\n",
       "        vertical-align: middle;\n",
       "    }\n",
       "\n",
       "    .dataframe tbody tr th {\n",
       "        vertical-align: top;\n",
       "    }\n",
       "\n",
       "    .dataframe thead th {\n",
       "        text-align: right;\n",
       "    }\n",
       "</style>\n",
       "<table border=\"1\" class=\"dataframe\">\n",
       "  <thead>\n",
       "    <tr style=\"text-align: right;\">\n",
       "      <th></th>\n",
       "      <th>ID</th>\n",
       "      <th>Gjinia</th>\n",
       "      <th>Mosha</th>\n",
       "      <th>Hipertension</th>\n",
       "      <th>Semundje_zemres</th>\n",
       "      <th>Martuar_ndonjeher</th>\n",
       "      <th>Lloji_punesimit</th>\n",
       "      <th>Zona_jeteses</th>\n",
       "      <th>Mesatarja_glukozes_niveli</th>\n",
       "      <th>bmi</th>\n",
       "      <th>Duhanpirja</th>\n",
       "      <th>Infarkt</th>\n",
       "    </tr>\n",
       "  </thead>\n",
       "  <tbody>\n",
       "    <tr>\n",
       "      <th>0</th>\n",
       "      <td>9046</td>\n",
       "      <td>Male</td>\n",
       "      <td>67.0</td>\n",
       "      <td>Jo</td>\n",
       "      <td>Po</td>\n",
       "      <td>Po</td>\n",
       "      <td>Private</td>\n",
       "      <td>Urban</td>\n",
       "      <td>228.69</td>\n",
       "      <td>36.6</td>\n",
       "      <td>formerly smoked</td>\n",
       "      <td>1</td>\n",
       "    </tr>\n",
       "    <tr>\n",
       "      <th>1</th>\n",
       "      <td>51676</td>\n",
       "      <td>Female</td>\n",
       "      <td>61.0</td>\n",
       "      <td>Jo</td>\n",
       "      <td>Jo</td>\n",
       "      <td>Po</td>\n",
       "      <td>Self-employed</td>\n",
       "      <td>Rural</td>\n",
       "      <td>202.21</td>\n",
       "      <td>NaN</td>\n",
       "      <td>never smoked</td>\n",
       "      <td>1</td>\n",
       "    </tr>\n",
       "    <tr>\n",
       "      <th>2</th>\n",
       "      <td>31112</td>\n",
       "      <td>Male</td>\n",
       "      <td>80.0</td>\n",
       "      <td>Jo</td>\n",
       "      <td>Po</td>\n",
       "      <td>Po</td>\n",
       "      <td>Private</td>\n",
       "      <td>Rural</td>\n",
       "      <td>105.92</td>\n",
       "      <td>32.5</td>\n",
       "      <td>never smoked</td>\n",
       "      <td>1</td>\n",
       "    </tr>\n",
       "    <tr>\n",
       "      <th>3</th>\n",
       "      <td>60182</td>\n",
       "      <td>Female</td>\n",
       "      <td>49.0</td>\n",
       "      <td>Jo</td>\n",
       "      <td>Jo</td>\n",
       "      <td>Po</td>\n",
       "      <td>Private</td>\n",
       "      <td>Urban</td>\n",
       "      <td>171.23</td>\n",
       "      <td>34.4</td>\n",
       "      <td>smokes</td>\n",
       "      <td>1</td>\n",
       "    </tr>\n",
       "    <tr>\n",
       "      <th>4</th>\n",
       "      <td>1665</td>\n",
       "      <td>Female</td>\n",
       "      <td>79.0</td>\n",
       "      <td>Po</td>\n",
       "      <td>Jo</td>\n",
       "      <td>Po</td>\n",
       "      <td>Self-employed</td>\n",
       "      <td>Rural</td>\n",
       "      <td>174.12</td>\n",
       "      <td>24.0</td>\n",
       "      <td>never smoked</td>\n",
       "      <td>1</td>\n",
       "    </tr>\n",
       "    <tr>\n",
       "      <th>...</th>\n",
       "      <td>...</td>\n",
       "      <td>...</td>\n",
       "      <td>...</td>\n",
       "      <td>...</td>\n",
       "      <td>...</td>\n",
       "      <td>...</td>\n",
       "      <td>...</td>\n",
       "      <td>...</td>\n",
       "      <td>...</td>\n",
       "      <td>...</td>\n",
       "      <td>...</td>\n",
       "      <td>...</td>\n",
       "    </tr>\n",
       "    <tr>\n",
       "      <th>5105</th>\n",
       "      <td>18234</td>\n",
       "      <td>Female</td>\n",
       "      <td>80.0</td>\n",
       "      <td>Po</td>\n",
       "      <td>Jo</td>\n",
       "      <td>Po</td>\n",
       "      <td>Private</td>\n",
       "      <td>Urban</td>\n",
       "      <td>83.75</td>\n",
       "      <td>NaN</td>\n",
       "      <td>never smoked</td>\n",
       "      <td>0</td>\n",
       "    </tr>\n",
       "    <tr>\n",
       "      <th>5106</th>\n",
       "      <td>44873</td>\n",
       "      <td>Female</td>\n",
       "      <td>81.0</td>\n",
       "      <td>Jo</td>\n",
       "      <td>Jo</td>\n",
       "      <td>Po</td>\n",
       "      <td>Self-employed</td>\n",
       "      <td>Urban</td>\n",
       "      <td>125.20</td>\n",
       "      <td>40.0</td>\n",
       "      <td>never smoked</td>\n",
       "      <td>0</td>\n",
       "    </tr>\n",
       "    <tr>\n",
       "      <th>5107</th>\n",
       "      <td>19723</td>\n",
       "      <td>Female</td>\n",
       "      <td>35.0</td>\n",
       "      <td>Jo</td>\n",
       "      <td>Jo</td>\n",
       "      <td>Po</td>\n",
       "      <td>Self-employed</td>\n",
       "      <td>Rural</td>\n",
       "      <td>82.99</td>\n",
       "      <td>30.6</td>\n",
       "      <td>never smoked</td>\n",
       "      <td>0</td>\n",
       "    </tr>\n",
       "    <tr>\n",
       "      <th>5108</th>\n",
       "      <td>37544</td>\n",
       "      <td>Male</td>\n",
       "      <td>51.0</td>\n",
       "      <td>Jo</td>\n",
       "      <td>Jo</td>\n",
       "      <td>Po</td>\n",
       "      <td>Private</td>\n",
       "      <td>Rural</td>\n",
       "      <td>166.29</td>\n",
       "      <td>25.6</td>\n",
       "      <td>formerly smoked</td>\n",
       "      <td>0</td>\n",
       "    </tr>\n",
       "    <tr>\n",
       "      <th>5109</th>\n",
       "      <td>44679</td>\n",
       "      <td>Female</td>\n",
       "      <td>44.0</td>\n",
       "      <td>Jo</td>\n",
       "      <td>Jo</td>\n",
       "      <td>Po</td>\n",
       "      <td>Govt_job</td>\n",
       "      <td>Urban</td>\n",
       "      <td>85.28</td>\n",
       "      <td>26.2</td>\n",
       "      <td>Unknown</td>\n",
       "      <td>0</td>\n",
       "    </tr>\n",
       "  </tbody>\n",
       "</table>\n",
       "<p>5110 rows × 12 columns</p>\n",
       "</div>"
      ],
      "text/plain": [
       "         ID  Gjinia  Mosha Hipertension Semundje_zemres Martuar_ndonjeher  \\\n",
       "0      9046    Male   67.0           Jo              Po                Po   \n",
       "1     51676  Female   61.0           Jo              Jo                Po   \n",
       "2     31112    Male   80.0           Jo              Po                Po   \n",
       "3     60182  Female   49.0           Jo              Jo                Po   \n",
       "4      1665  Female   79.0           Po              Jo                Po   \n",
       "...     ...     ...    ...          ...             ...               ...   \n",
       "5105  18234  Female   80.0           Po              Jo                Po   \n",
       "5106  44873  Female   81.0           Jo              Jo                Po   \n",
       "5107  19723  Female   35.0           Jo              Jo                Po   \n",
       "5108  37544    Male   51.0           Jo              Jo                Po   \n",
       "5109  44679  Female   44.0           Jo              Jo                Po   \n",
       "\n",
       "     Lloji_punesimit Zona_jeteses  Mesatarja_glukozes_niveli   bmi  \\\n",
       "0            Private        Urban                     228.69  36.6   \n",
       "1      Self-employed        Rural                     202.21   NaN   \n",
       "2            Private        Rural                     105.92  32.5   \n",
       "3            Private        Urban                     171.23  34.4   \n",
       "4      Self-employed        Rural                     174.12  24.0   \n",
       "...              ...          ...                        ...   ...   \n",
       "5105         Private        Urban                      83.75   NaN   \n",
       "5106   Self-employed        Urban                     125.20  40.0   \n",
       "5107   Self-employed        Rural                      82.99  30.6   \n",
       "5108         Private        Rural                     166.29  25.6   \n",
       "5109        Govt_job        Urban                      85.28  26.2   \n",
       "\n",
       "           Duhanpirja  Infarkt  \n",
       "0     formerly smoked        1  \n",
       "1        never smoked        1  \n",
       "2        never smoked        1  \n",
       "3              smokes        1  \n",
       "4        never smoked        1  \n",
       "...               ...      ...  \n",
       "5105     never smoked        0  \n",
       "5106     never smoked        0  \n",
       "5107     never smoked        0  \n",
       "5108  formerly smoked        0  \n",
       "5109          Unknown        0  \n",
       "\n",
       "[5110 rows x 12 columns]"
      ]
     },
     "execution_count": 21,
     "metadata": {},
     "output_type": "execute_result"
    }
   ],
   "source": [
    "df = pd.read_csv('shenimet_infarktit.csv', sep=\"|\")\n",
    "df\n"
   ]
  },
  {
   "cell_type": "code",
   "execution_count": 22,
   "id": "93e1145f-efbb-416e-8610-5f3baf8caf80",
   "metadata": {},
   "outputs": [
    {
     "data": {
      "text/html": [
       "<div>\n",
       "<style scoped>\n",
       "    .dataframe tbody tr th:only-of-type {\n",
       "        vertical-align: middle;\n",
       "    }\n",
       "\n",
       "    .dataframe tbody tr th {\n",
       "        vertical-align: top;\n",
       "    }\n",
       "\n",
       "    .dataframe thead th {\n",
       "        text-align: right;\n",
       "    }\n",
       "</style>\n",
       "<table border=\"1\" class=\"dataframe\">\n",
       "  <thead>\n",
       "    <tr style=\"text-align: right;\">\n",
       "      <th></th>\n",
       "      <th>ID</th>\n",
       "      <th>Gjinia</th>\n",
       "      <th>Mosha</th>\n",
       "      <th>Hipertension</th>\n",
       "      <th>Semundje_zemres</th>\n",
       "      <th>Mesatarja_glukozes_niveli</th>\n",
       "      <th>Duhanpirja</th>\n",
       "      <th>Infarkt</th>\n",
       "    </tr>\n",
       "  </thead>\n",
       "  <tbody>\n",
       "    <tr>\n",
       "      <th>0</th>\n",
       "      <td>9046</td>\n",
       "      <td>Male</td>\n",
       "      <td>67.0</td>\n",
       "      <td>Jo</td>\n",
       "      <td>Po</td>\n",
       "      <td>228.69</td>\n",
       "      <td>formerly smoked</td>\n",
       "      <td>1</td>\n",
       "    </tr>\n",
       "    <tr>\n",
       "      <th>1</th>\n",
       "      <td>51676</td>\n",
       "      <td>Female</td>\n",
       "      <td>61.0</td>\n",
       "      <td>Jo</td>\n",
       "      <td>Jo</td>\n",
       "      <td>202.21</td>\n",
       "      <td>never smoked</td>\n",
       "      <td>1</td>\n",
       "    </tr>\n",
       "    <tr>\n",
       "      <th>2</th>\n",
       "      <td>31112</td>\n",
       "      <td>Male</td>\n",
       "      <td>80.0</td>\n",
       "      <td>Jo</td>\n",
       "      <td>Po</td>\n",
       "      <td>105.92</td>\n",
       "      <td>never smoked</td>\n",
       "      <td>1</td>\n",
       "    </tr>\n",
       "    <tr>\n",
       "      <th>3</th>\n",
       "      <td>60182</td>\n",
       "      <td>Female</td>\n",
       "      <td>49.0</td>\n",
       "      <td>Jo</td>\n",
       "      <td>Jo</td>\n",
       "      <td>171.23</td>\n",
       "      <td>smokes</td>\n",
       "      <td>1</td>\n",
       "    </tr>\n",
       "    <tr>\n",
       "      <th>4</th>\n",
       "      <td>1665</td>\n",
       "      <td>Female</td>\n",
       "      <td>79.0</td>\n",
       "      <td>Po</td>\n",
       "      <td>Jo</td>\n",
       "      <td>174.12</td>\n",
       "      <td>never smoked</td>\n",
       "      <td>1</td>\n",
       "    </tr>\n",
       "    <tr>\n",
       "      <th>...</th>\n",
       "      <td>...</td>\n",
       "      <td>...</td>\n",
       "      <td>...</td>\n",
       "      <td>...</td>\n",
       "      <td>...</td>\n",
       "      <td>...</td>\n",
       "      <td>...</td>\n",
       "      <td>...</td>\n",
       "    </tr>\n",
       "    <tr>\n",
       "      <th>5105</th>\n",
       "      <td>18234</td>\n",
       "      <td>Female</td>\n",
       "      <td>80.0</td>\n",
       "      <td>Po</td>\n",
       "      <td>Jo</td>\n",
       "      <td>83.75</td>\n",
       "      <td>never smoked</td>\n",
       "      <td>0</td>\n",
       "    </tr>\n",
       "    <tr>\n",
       "      <th>5106</th>\n",
       "      <td>44873</td>\n",
       "      <td>Female</td>\n",
       "      <td>81.0</td>\n",
       "      <td>Jo</td>\n",
       "      <td>Jo</td>\n",
       "      <td>125.20</td>\n",
       "      <td>never smoked</td>\n",
       "      <td>0</td>\n",
       "    </tr>\n",
       "    <tr>\n",
       "      <th>5107</th>\n",
       "      <td>19723</td>\n",
       "      <td>Female</td>\n",
       "      <td>35.0</td>\n",
       "      <td>Jo</td>\n",
       "      <td>Jo</td>\n",
       "      <td>82.99</td>\n",
       "      <td>never smoked</td>\n",
       "      <td>0</td>\n",
       "    </tr>\n",
       "    <tr>\n",
       "      <th>5108</th>\n",
       "      <td>37544</td>\n",
       "      <td>Male</td>\n",
       "      <td>51.0</td>\n",
       "      <td>Jo</td>\n",
       "      <td>Jo</td>\n",
       "      <td>166.29</td>\n",
       "      <td>formerly smoked</td>\n",
       "      <td>0</td>\n",
       "    </tr>\n",
       "    <tr>\n",
       "      <th>5109</th>\n",
       "      <td>44679</td>\n",
       "      <td>Female</td>\n",
       "      <td>44.0</td>\n",
       "      <td>Jo</td>\n",
       "      <td>Jo</td>\n",
       "      <td>85.28</td>\n",
       "      <td>Unknown</td>\n",
       "      <td>0</td>\n",
       "    </tr>\n",
       "  </tbody>\n",
       "</table>\n",
       "<p>5110 rows × 8 columns</p>\n",
       "</div>"
      ],
      "text/plain": [
       "         ID  Gjinia  Mosha Hipertension Semundje_zemres  \\\n",
       "0      9046    Male   67.0           Jo              Po   \n",
       "1     51676  Female   61.0           Jo              Jo   \n",
       "2     31112    Male   80.0           Jo              Po   \n",
       "3     60182  Female   49.0           Jo              Jo   \n",
       "4      1665  Female   79.0           Po              Jo   \n",
       "...     ...     ...    ...          ...             ...   \n",
       "5105  18234  Female   80.0           Po              Jo   \n",
       "5106  44873  Female   81.0           Jo              Jo   \n",
       "5107  19723  Female   35.0           Jo              Jo   \n",
       "5108  37544    Male   51.0           Jo              Jo   \n",
       "5109  44679  Female   44.0           Jo              Jo   \n",
       "\n",
       "      Mesatarja_glukozes_niveli       Duhanpirja  Infarkt  \n",
       "0                        228.69  formerly smoked        1  \n",
       "1                        202.21     never smoked        1  \n",
       "2                        105.92     never smoked        1  \n",
       "3                        171.23           smokes        1  \n",
       "4                        174.12     never smoked        1  \n",
       "...                         ...              ...      ...  \n",
       "5105                      83.75     never smoked        0  \n",
       "5106                     125.20     never smoked        0  \n",
       "5107                      82.99     never smoked        0  \n",
       "5108                     166.29  formerly smoked        0  \n",
       "5109                      85.28          Unknown        0  \n",
       "\n",
       "[5110 rows x 8 columns]"
      ]
     },
     "execution_count": 22,
     "metadata": {},
     "output_type": "execute_result"
    }
   ],
   "source": [
    "# Dropping 'Cabin' column due to missing values\n",
    "drop_colums = ['Zona_jeteses', 'Lloji_punesimit', 'Lloji_punesimit', 'Martuar_ndonjeher', 'bmi']\n",
    "df = df.drop(columns=drop_colums, axis=1)\n",
    "df"
   ]
  },
  {
   "cell_type": "code",
   "execution_count": 23,
   "id": "391a74e3-9a7b-4c36-9ee2-c161bd260e38",
   "metadata": {},
   "outputs": [],
   "source": [
    "df['Gjinia'] = df['Gjinia'].map({'Male':0,'Female':1,'NaN':0,})\n",
    "df['Hipertension'] = df['Hipertension'].map({'Po':0,'Jo':1,})\n",
    "df['Semundje_zemres'] = df['Semundje_zemres'].map({'Po':0,'Jo':1,})\n",
    "df['Duhanpirja'] = df['Duhanpirja'].map({'formerly smoked':0,'never smoked':1,'smokes':0,'Unknown':1})\n"
   ]
  },
  {
   "cell_type": "code",
   "execution_count": 24,
   "id": "7e6eb34f-4473-4e89-b294-473f54968ebc",
   "metadata": {},
   "outputs": [
    {
     "data": {
      "text/html": [
       "<div>\n",
       "<style scoped>\n",
       "    .dataframe tbody tr th:only-of-type {\n",
       "        vertical-align: middle;\n",
       "    }\n",
       "\n",
       "    .dataframe tbody tr th {\n",
       "        vertical-align: top;\n",
       "    }\n",
       "\n",
       "    .dataframe thead th {\n",
       "        text-align: right;\n",
       "    }\n",
       "</style>\n",
       "<table border=\"1\" class=\"dataframe\">\n",
       "  <thead>\n",
       "    <tr style=\"text-align: right;\">\n",
       "      <th></th>\n",
       "      <th>ID</th>\n",
       "      <th>Gjinia</th>\n",
       "      <th>Mosha</th>\n",
       "      <th>Hipertension</th>\n",
       "      <th>Semundje_zemres</th>\n",
       "      <th>Mesatarja_glukozes_niveli</th>\n",
       "      <th>Duhanpirja</th>\n",
       "      <th>Infarkt</th>\n",
       "    </tr>\n",
       "  </thead>\n",
       "  <tbody>\n",
       "    <tr>\n",
       "      <th>0</th>\n",
       "      <td>9046</td>\n",
       "      <td>0.0</td>\n",
       "      <td>67.0</td>\n",
       "      <td>1</td>\n",
       "      <td>0</td>\n",
       "      <td>228.69</td>\n",
       "      <td>0</td>\n",
       "      <td>1</td>\n",
       "    </tr>\n",
       "    <tr>\n",
       "      <th>1</th>\n",
       "      <td>51676</td>\n",
       "      <td>1.0</td>\n",
       "      <td>61.0</td>\n",
       "      <td>1</td>\n",
       "      <td>1</td>\n",
       "      <td>202.21</td>\n",
       "      <td>1</td>\n",
       "      <td>1</td>\n",
       "    </tr>\n",
       "    <tr>\n",
       "      <th>2</th>\n",
       "      <td>31112</td>\n",
       "      <td>0.0</td>\n",
       "      <td>80.0</td>\n",
       "      <td>1</td>\n",
       "      <td>0</td>\n",
       "      <td>105.92</td>\n",
       "      <td>1</td>\n",
       "      <td>1</td>\n",
       "    </tr>\n",
       "    <tr>\n",
       "      <th>3</th>\n",
       "      <td>60182</td>\n",
       "      <td>1.0</td>\n",
       "      <td>49.0</td>\n",
       "      <td>1</td>\n",
       "      <td>1</td>\n",
       "      <td>171.23</td>\n",
       "      <td>0</td>\n",
       "      <td>1</td>\n",
       "    </tr>\n",
       "    <tr>\n",
       "      <th>4</th>\n",
       "      <td>1665</td>\n",
       "      <td>1.0</td>\n",
       "      <td>79.0</td>\n",
       "      <td>0</td>\n",
       "      <td>1</td>\n",
       "      <td>174.12</td>\n",
       "      <td>1</td>\n",
       "      <td>1</td>\n",
       "    </tr>\n",
       "    <tr>\n",
       "      <th>...</th>\n",
       "      <td>...</td>\n",
       "      <td>...</td>\n",
       "      <td>...</td>\n",
       "      <td>...</td>\n",
       "      <td>...</td>\n",
       "      <td>...</td>\n",
       "      <td>...</td>\n",
       "      <td>...</td>\n",
       "    </tr>\n",
       "    <tr>\n",
       "      <th>5105</th>\n",
       "      <td>18234</td>\n",
       "      <td>1.0</td>\n",
       "      <td>80.0</td>\n",
       "      <td>0</td>\n",
       "      <td>1</td>\n",
       "      <td>83.75</td>\n",
       "      <td>1</td>\n",
       "      <td>0</td>\n",
       "    </tr>\n",
       "    <tr>\n",
       "      <th>5106</th>\n",
       "      <td>44873</td>\n",
       "      <td>1.0</td>\n",
       "      <td>81.0</td>\n",
       "      <td>1</td>\n",
       "      <td>1</td>\n",
       "      <td>125.20</td>\n",
       "      <td>1</td>\n",
       "      <td>0</td>\n",
       "    </tr>\n",
       "    <tr>\n",
       "      <th>5107</th>\n",
       "      <td>19723</td>\n",
       "      <td>1.0</td>\n",
       "      <td>35.0</td>\n",
       "      <td>1</td>\n",
       "      <td>1</td>\n",
       "      <td>82.99</td>\n",
       "      <td>1</td>\n",
       "      <td>0</td>\n",
       "    </tr>\n",
       "    <tr>\n",
       "      <th>5108</th>\n",
       "      <td>37544</td>\n",
       "      <td>0.0</td>\n",
       "      <td>51.0</td>\n",
       "      <td>1</td>\n",
       "      <td>1</td>\n",
       "      <td>166.29</td>\n",
       "      <td>0</td>\n",
       "      <td>0</td>\n",
       "    </tr>\n",
       "    <tr>\n",
       "      <th>5109</th>\n",
       "      <td>44679</td>\n",
       "      <td>1.0</td>\n",
       "      <td>44.0</td>\n",
       "      <td>1</td>\n",
       "      <td>1</td>\n",
       "      <td>85.28</td>\n",
       "      <td>1</td>\n",
       "      <td>0</td>\n",
       "    </tr>\n",
       "  </tbody>\n",
       "</table>\n",
       "<p>5110 rows × 8 columns</p>\n",
       "</div>"
      ],
      "text/plain": [
       "         ID  Gjinia  Mosha  Hipertension  Semundje_zemres  \\\n",
       "0      9046     0.0   67.0             1                0   \n",
       "1     51676     1.0   61.0             1                1   \n",
       "2     31112     0.0   80.0             1                0   \n",
       "3     60182     1.0   49.0             1                1   \n",
       "4      1665     1.0   79.0             0                1   \n",
       "...     ...     ...    ...           ...              ...   \n",
       "5105  18234     1.0   80.0             0                1   \n",
       "5106  44873     1.0   81.0             1                1   \n",
       "5107  19723     1.0   35.0             1                1   \n",
       "5108  37544     0.0   51.0             1                1   \n",
       "5109  44679     1.0   44.0             1                1   \n",
       "\n",
       "      Mesatarja_glukozes_niveli  Duhanpirja  Infarkt  \n",
       "0                        228.69           0        1  \n",
       "1                        202.21           1        1  \n",
       "2                        105.92           1        1  \n",
       "3                        171.23           0        1  \n",
       "4                        174.12           1        1  \n",
       "...                         ...         ...      ...  \n",
       "5105                      83.75           1        0  \n",
       "5106                     125.20           1        0  \n",
       "5107                      82.99           1        0  \n",
       "5108                     166.29           0        0  \n",
       "5109                      85.28           1        0  \n",
       "\n",
       "[5110 rows x 8 columns]"
      ]
     },
     "execution_count": 24,
     "metadata": {},
     "output_type": "execute_result"
    }
   ],
   "source": [
    "df"
   ]
  },
  {
   "cell_type": "code",
   "execution_count": 25,
   "id": "643b6ebf-a6e7-44d1-935d-1ef0b858f327",
   "metadata": {},
   "outputs": [
    {
     "data": {
      "text/plain": [
       "ID                           0\n",
       "Gjinia                       1\n",
       "Mosha                        0\n",
       "Hipertension                 0\n",
       "Semundje_zemres              0\n",
       "Mesatarja_glukozes_niveli    0\n",
       "Duhanpirja                   0\n",
       "Infarkt                      0\n",
       "dtype: int64"
      ]
     },
     "execution_count": 25,
     "metadata": {},
     "output_type": "execute_result"
    }
   ],
   "source": [
    "df.isnull().sum()\n"
   ]
  },
  {
   "cell_type": "code",
   "execution_count": 26,
   "id": "49ab847d-e596-40b2-86b9-709deed4edc1",
   "metadata": {},
   "outputs": [],
   "source": [
    "df = df[df['Gjinia'].notna()]\n"
   ]
  },
  {
   "cell_type": "code",
   "execution_count": 27,
   "id": "a0543865-2890-4982-859d-66533cd0dee0",
   "metadata": {},
   "outputs": [
    {
     "data": {
      "text/plain": [
       "ID                           0\n",
       "Gjinia                       0\n",
       "Mosha                        0\n",
       "Hipertension                 0\n",
       "Semundje_zemres              0\n",
       "Mesatarja_glukozes_niveli    0\n",
       "Duhanpirja                   0\n",
       "Infarkt                      0\n",
       "dtype: int64"
      ]
     },
     "execution_count": 27,
     "metadata": {},
     "output_type": "execute_result"
    }
   ],
   "source": [
    "df.isnull().sum()\n",
    "\n"
   ]
  },
  {
   "cell_type": "code",
   "execution_count": 28,
   "id": "0eaf70d6-2863-4eb0-abd2-df03335ade1f",
   "metadata": {},
   "outputs": [],
   "source": [
    "# Split the data into features (X) and target (y)\n",
    "X = df.drop('Gjinia', axis=1)\n",
    "y = df['Gjinia']\n",
    "\n",
    "# Split the data into training and test sets\n",
    "X_train, X_test, y_train, y_test = train_test_split(X, y, test_size=0.2)"
   ]
  },
  {
   "cell_type": "code",
   "execution_count": 29,
   "id": "a08a0695-f8d4-4ad8-8f0b-9c83e5fb1830",
   "metadata": {},
   "outputs": [
    {
     "data": {
      "text/html": [
       "<style>#sk-container-id-1 {color: black;}#sk-container-id-1 pre{padding: 0;}#sk-container-id-1 div.sk-toggleable {background-color: white;}#sk-container-id-1 label.sk-toggleable__label {cursor: pointer;display: block;width: 100%;margin-bottom: 0;padding: 0.3em;box-sizing: border-box;text-align: center;}#sk-container-id-1 label.sk-toggleable__label-arrow:before {content: \"▸\";float: left;margin-right: 0.25em;color: #696969;}#sk-container-id-1 label.sk-toggleable__label-arrow:hover:before {color: black;}#sk-container-id-1 div.sk-estimator:hover label.sk-toggleable__label-arrow:before {color: black;}#sk-container-id-1 div.sk-toggleable__content {max-height: 0;max-width: 0;overflow: hidden;text-align: left;background-color: #f0f8ff;}#sk-container-id-1 div.sk-toggleable__content pre {margin: 0.2em;color: black;border-radius: 0.25em;background-color: #f0f8ff;}#sk-container-id-1 input.sk-toggleable__control:checked~div.sk-toggleable__content {max-height: 200px;max-width: 100%;overflow: auto;}#sk-container-id-1 input.sk-toggleable__control:checked~label.sk-toggleable__label-arrow:before {content: \"▾\";}#sk-container-id-1 div.sk-estimator input.sk-toggleable__control:checked~label.sk-toggleable__label {background-color: #d4ebff;}#sk-container-id-1 div.sk-label input.sk-toggleable__control:checked~label.sk-toggleable__label {background-color: #d4ebff;}#sk-container-id-1 input.sk-hidden--visually {border: 0;clip: rect(1px 1px 1px 1px);clip: rect(1px, 1px, 1px, 1px);height: 1px;margin: -1px;overflow: hidden;padding: 0;position: absolute;width: 1px;}#sk-container-id-1 div.sk-estimator {font-family: monospace;background-color: #f0f8ff;border: 1px dotted black;border-radius: 0.25em;box-sizing: border-box;margin-bottom: 0.5em;}#sk-container-id-1 div.sk-estimator:hover {background-color: #d4ebff;}#sk-container-id-1 div.sk-parallel-item::after {content: \"\";width: 100%;border-bottom: 1px solid gray;flex-grow: 1;}#sk-container-id-1 div.sk-label:hover label.sk-toggleable__label {background-color: #d4ebff;}#sk-container-id-1 div.sk-serial::before {content: \"\";position: absolute;border-left: 1px solid gray;box-sizing: border-box;top: 0;bottom: 0;left: 50%;z-index: 0;}#sk-container-id-1 div.sk-serial {display: flex;flex-direction: column;align-items: center;background-color: white;padding-right: 0.2em;padding-left: 0.2em;position: relative;}#sk-container-id-1 div.sk-item {position: relative;z-index: 1;}#sk-container-id-1 div.sk-parallel {display: flex;align-items: stretch;justify-content: center;background-color: white;position: relative;}#sk-container-id-1 div.sk-item::before, #sk-container-id-1 div.sk-parallel-item::before {content: \"\";position: absolute;border-left: 1px solid gray;box-sizing: border-box;top: 0;bottom: 0;left: 50%;z-index: -1;}#sk-container-id-1 div.sk-parallel-item {display: flex;flex-direction: column;z-index: 1;position: relative;background-color: white;}#sk-container-id-1 div.sk-parallel-item:first-child::after {align-self: flex-end;width: 50%;}#sk-container-id-1 div.sk-parallel-item:last-child::after {align-self: flex-start;width: 50%;}#sk-container-id-1 div.sk-parallel-item:only-child::after {width: 0;}#sk-container-id-1 div.sk-dashed-wrapped {border: 1px dashed gray;margin: 0 0.4em 0.5em 0.4em;box-sizing: border-box;padding-bottom: 0.4em;background-color: white;}#sk-container-id-1 div.sk-label label {font-family: monospace;font-weight: bold;display: inline-block;line-height: 1.2em;}#sk-container-id-1 div.sk-label-container {text-align: center;}#sk-container-id-1 div.sk-container {/* jupyter's `normalize.less` sets `[hidden] { display: none; }` but bootstrap.min.css set `[hidden] { display: none !important; }` so we also need the `!important` here to be able to override the default hidden behavior on the sphinx rendered scikit-learn.org. See: https://github.com/scikit-learn/scikit-learn/issues/21755 */display: inline-block !important;position: relative;}#sk-container-id-1 div.sk-text-repr-fallback {display: none;}</style><div id=\"sk-container-id-1\" class=\"sk-top-container\"><div class=\"sk-text-repr-fallback\"><pre>RandomForestClassifier()</pre><b>In a Jupyter environment, please rerun this cell to show the HTML representation or trust the notebook. <br />On GitHub, the HTML representation is unable to render, please try loading this page with nbviewer.org.</b></div><div class=\"sk-container\" hidden><div class=\"sk-item\"><div class=\"sk-estimator sk-toggleable\"><input class=\"sk-toggleable__control sk-hidden--visually\" id=\"sk-estimator-id-1\" type=\"checkbox\" checked><label for=\"sk-estimator-id-1\" class=\"sk-toggleable__label sk-toggleable__label-arrow\">RandomForestClassifier</label><div class=\"sk-toggleable__content\"><pre>RandomForestClassifier()</pre></div></div></div></div></div>"
      ],
      "text/plain": [
       "RandomForestClassifier()"
      ]
     },
     "execution_count": 29,
     "metadata": {},
     "output_type": "execute_result"
    }
   ],
   "source": [
    "rf = RandomForestClassifier()\n",
    "rf.fit(X_train, y_train)"
   ]
  },
  {
   "cell_type": "code",
   "execution_count": 30,
   "id": "7c51ca70-62f3-482c-bc43-b28efbbb7320",
   "metadata": {},
   "outputs": [],
   "source": [
    "y_pred = rf.predict(X_test)"
   ]
  },
  {
   "cell_type": "code",
   "execution_count": 31,
   "id": "6560d7a2-b723-4bb6-b26e-d5963922e78f",
   "metadata": {},
   "outputs": [
    {
     "name": "stdout",
     "output_type": "stream",
     "text": [
      "Accuracy: 0.5772994129158513\n"
     ]
    }
   ],
   "source": [
    "accuracy = accuracy_score(y_test, y_pred)\n",
    "print(\"Accuracy:\", accuracy)"
   ]
  },
  {
   "cell_type": "code",
   "execution_count": 32,
   "id": "1f825bb4-2d0f-4c16-a99e-c4f7d6efb549",
   "metadata": {},
   "outputs": [
    {
     "data": {
      "text/html": [
       "<style>#sk-container-id-2 {color: black;}#sk-container-id-2 pre{padding: 0;}#sk-container-id-2 div.sk-toggleable {background-color: white;}#sk-container-id-2 label.sk-toggleable__label {cursor: pointer;display: block;width: 100%;margin-bottom: 0;padding: 0.3em;box-sizing: border-box;text-align: center;}#sk-container-id-2 label.sk-toggleable__label-arrow:before {content: \"▸\";float: left;margin-right: 0.25em;color: #696969;}#sk-container-id-2 label.sk-toggleable__label-arrow:hover:before {color: black;}#sk-container-id-2 div.sk-estimator:hover label.sk-toggleable__label-arrow:before {color: black;}#sk-container-id-2 div.sk-toggleable__content {max-height: 0;max-width: 0;overflow: hidden;text-align: left;background-color: #f0f8ff;}#sk-container-id-2 div.sk-toggleable__content pre {margin: 0.2em;color: black;border-radius: 0.25em;background-color: #f0f8ff;}#sk-container-id-2 input.sk-toggleable__control:checked~div.sk-toggleable__content {max-height: 200px;max-width: 100%;overflow: auto;}#sk-container-id-2 input.sk-toggleable__control:checked~label.sk-toggleable__label-arrow:before {content: \"▾\";}#sk-container-id-2 div.sk-estimator input.sk-toggleable__control:checked~label.sk-toggleable__label {background-color: #d4ebff;}#sk-container-id-2 div.sk-label input.sk-toggleable__control:checked~label.sk-toggleable__label {background-color: #d4ebff;}#sk-container-id-2 input.sk-hidden--visually {border: 0;clip: rect(1px 1px 1px 1px);clip: rect(1px, 1px, 1px, 1px);height: 1px;margin: -1px;overflow: hidden;padding: 0;position: absolute;width: 1px;}#sk-container-id-2 div.sk-estimator {font-family: monospace;background-color: #f0f8ff;border: 1px dotted black;border-radius: 0.25em;box-sizing: border-box;margin-bottom: 0.5em;}#sk-container-id-2 div.sk-estimator:hover {background-color: #d4ebff;}#sk-container-id-2 div.sk-parallel-item::after {content: \"\";width: 100%;border-bottom: 1px solid gray;flex-grow: 1;}#sk-container-id-2 div.sk-label:hover label.sk-toggleable__label {background-color: #d4ebff;}#sk-container-id-2 div.sk-serial::before {content: \"\";position: absolute;border-left: 1px solid gray;box-sizing: border-box;top: 0;bottom: 0;left: 50%;z-index: 0;}#sk-container-id-2 div.sk-serial {display: flex;flex-direction: column;align-items: center;background-color: white;padding-right: 0.2em;padding-left: 0.2em;position: relative;}#sk-container-id-2 div.sk-item {position: relative;z-index: 1;}#sk-container-id-2 div.sk-parallel {display: flex;align-items: stretch;justify-content: center;background-color: white;position: relative;}#sk-container-id-2 div.sk-item::before, #sk-container-id-2 div.sk-parallel-item::before {content: \"\";position: absolute;border-left: 1px solid gray;box-sizing: border-box;top: 0;bottom: 0;left: 50%;z-index: -1;}#sk-container-id-2 div.sk-parallel-item {display: flex;flex-direction: column;z-index: 1;position: relative;background-color: white;}#sk-container-id-2 div.sk-parallel-item:first-child::after {align-self: flex-end;width: 50%;}#sk-container-id-2 div.sk-parallel-item:last-child::after {align-self: flex-start;width: 50%;}#sk-container-id-2 div.sk-parallel-item:only-child::after {width: 0;}#sk-container-id-2 div.sk-dashed-wrapped {border: 1px dashed gray;margin: 0 0.4em 0.5em 0.4em;box-sizing: border-box;padding-bottom: 0.4em;background-color: white;}#sk-container-id-2 div.sk-label label {font-family: monospace;font-weight: bold;display: inline-block;line-height: 1.2em;}#sk-container-id-2 div.sk-label-container {text-align: center;}#sk-container-id-2 div.sk-container {/* jupyter's `normalize.less` sets `[hidden] { display: none; }` but bootstrap.min.css set `[hidden] { display: none !important; }` so we also need the `!important` here to be able to override the default hidden behavior on the sphinx rendered scikit-learn.org. See: https://github.com/scikit-learn/scikit-learn/issues/21755 */display: inline-block !important;position: relative;}#sk-container-id-2 div.sk-text-repr-fallback {display: none;}</style><div id=\"sk-container-id-2\" class=\"sk-top-container\"><div class=\"sk-text-repr-fallback\"><pre>RandomizedSearchCV(cv=5, estimator=RandomForestClassifier(), n_iter=5,\n",
       "                   param_distributions={&#x27;max_depth&#x27;: &lt;scipy.stats._distn_infrastructure.rv_discrete_frozen object at 0x77226330efd0&gt;,\n",
       "                                        &#x27;n_estimators&#x27;: &lt;scipy.stats._distn_infrastructure.rv_discrete_frozen object at 0x77226336cca0&gt;})</pre><b>In a Jupyter environment, please rerun this cell to show the HTML representation or trust the notebook. <br />On GitHub, the HTML representation is unable to render, please try loading this page with nbviewer.org.</b></div><div class=\"sk-container\" hidden><div class=\"sk-item sk-dashed-wrapped\"><div class=\"sk-label-container\"><div class=\"sk-label sk-toggleable\"><input class=\"sk-toggleable__control sk-hidden--visually\" id=\"sk-estimator-id-2\" type=\"checkbox\" ><label for=\"sk-estimator-id-2\" class=\"sk-toggleable__label sk-toggleable__label-arrow\">RandomizedSearchCV</label><div class=\"sk-toggleable__content\"><pre>RandomizedSearchCV(cv=5, estimator=RandomForestClassifier(), n_iter=5,\n",
       "                   param_distributions={&#x27;max_depth&#x27;: &lt;scipy.stats._distn_infrastructure.rv_discrete_frozen object at 0x77226330efd0&gt;,\n",
       "                                        &#x27;n_estimators&#x27;: &lt;scipy.stats._distn_infrastructure.rv_discrete_frozen object at 0x77226336cca0&gt;})</pre></div></div></div><div class=\"sk-parallel\"><div class=\"sk-parallel-item\"><div class=\"sk-item\"><div class=\"sk-label-container\"><div class=\"sk-label sk-toggleable\"><input class=\"sk-toggleable__control sk-hidden--visually\" id=\"sk-estimator-id-3\" type=\"checkbox\" ><label for=\"sk-estimator-id-3\" class=\"sk-toggleable__label sk-toggleable__label-arrow\">estimator: RandomForestClassifier</label><div class=\"sk-toggleable__content\"><pre>RandomForestClassifier()</pre></div></div></div><div class=\"sk-serial\"><div class=\"sk-item\"><div class=\"sk-estimator sk-toggleable\"><input class=\"sk-toggleable__control sk-hidden--visually\" id=\"sk-estimator-id-4\" type=\"checkbox\" ><label for=\"sk-estimator-id-4\" class=\"sk-toggleable__label sk-toggleable__label-arrow\">RandomForestClassifier</label><div class=\"sk-toggleable__content\"><pre>RandomForestClassifier()</pre></div></div></div></div></div></div></div></div></div></div>"
      ],
      "text/plain": [
       "RandomizedSearchCV(cv=5, estimator=RandomForestClassifier(), n_iter=5,\n",
       "                   param_distributions={'max_depth': <scipy.stats._distn_infrastructure.rv_discrete_frozen object at 0x77226330efd0>,\n",
       "                                        'n_estimators': <scipy.stats._distn_infrastructure.rv_discrete_frozen object at 0x77226336cca0>})"
      ]
     },
     "execution_count": 32,
     "metadata": {},
     "output_type": "execute_result"
    }
   ],
   "source": [
    "param_dist = {'n_estimators': randint(50,500),\n",
    "              'max_depth': randint(1,20)}\n",
    "\n",
    "# Create a random forest classifier\n",
    "rf = RandomForestClassifier()\n",
    "\n",
    "# Use random search to find the best hyperparameters\n",
    "rand_search = RandomizedSearchCV(rf, \n",
    "                                 param_distributions = param_dist, \n",
    "                                 n_iter=5, \n",
    "                                 cv=5)\n",
    "\n",
    "# Fit the random search object to the data\n",
    "rand_search.fit(X_train, y_train)"
   ]
  },
  {
   "cell_type": "code",
   "execution_count": 33,
   "id": "9b1d6918-d534-4464-a4ff-68e0dd15ffaf",
   "metadata": {},
   "outputs": [
    {
     "name": "stdout",
     "output_type": "stream",
     "text": [
      "Best hyperparameters: {'max_depth': 6, 'n_estimators': 459}\n"
     ]
    }
   ],
   "source": [
    "# Create a variable for the best model\n",
    "best_rf = rand_search.best_estimator_\n",
    "\n",
    "# Print the best hyperparameters\n",
    "print('Best hyperparameters:',  rand_search.best_params_)"
   ]
  },
  {
   "cell_type": "code",
   "execution_count": 34,
   "id": "a7c050c2-7633-45c5-80c3-b7e2b46c9ffb",
   "metadata": {},
   "outputs": [
    {
     "data": {
      "image/png": "[encoded data removed]",
      "text/plain": [
       "<Figure size 640x480 with 2 Axes>"
      ]
     },
     "metadata": {},
     "output_type": "display_data"
    }
   ],
   "source": [
    "# Generate predictions with the best model\n",
    "y_pred = best_rf.predict(X_test)\n",
    "\n",
    "# Create the confusion matrix\n",
    "# Create the confusion matrix\n",
    "cm = confusion_matrix(y_test, y_pred)\n",
    "\n",
    "# Create and display the confusion matrix plot\n",
    "disp = ConfusionMatrixDisplay(confusion_matrix=cm)\n",
    "disp.plot()\n",
    "\n",
    "# Save the plot to an image file\n",
    "plt.savefig('results/confusion_matrix.png')  # You can change the filename and format as needed\n",
    "\n",
    "# Optionally, show the plot\n",
    "plt.show()"
   ]
  },
  {
   "cell_type": "code",
   "execution_count": 35,
   "id": "f422415f-e144-446e-a41c-f5fcd2c7bf9c",
   "metadata": {},
   "outputs": [
    {
     "name": "stdout",
     "output_type": "stream",
     "text": [
      "Requirement already satisfied: graphviz in /home/blina/anaconda3/lib/python3.9/site-packages (0.20.3)\n"
     ]
    }
   ],
   "source": [
    "!pip install  graphviz"
   ]
  },
  {
   "cell_type": "code",
   "execution_count": 36,
   "id": "5c8e4b62-041c-41b2-8d72-0b82dc9793ea",
   "metadata": {},
   "outputs": [
    {
     "ename": "NameError",
     "evalue": "name 'feature_importances' is not defined",
     "output_type": "error",
     "traceback": [
      "\u001b[0;31m---------------------------------------------------------------------------\u001b[0m",
      "\u001b[0;31mNameError\u001b[0m                                 Traceback (most recent call last)",
      "Cell \u001b[0;32mIn[36], line 1\u001b[0m\n\u001b[0;32m----> 1\u001b[0m \u001b[43mfeature_importances\u001b[49m\u001b[38;5;241m.\u001b[39mdrop(\u001b[38;5;124m'\u001b[39m\u001b[38;5;124mID\u001b[39m\u001b[38;5;124m'\u001b[39m)\n",
      "\u001b[0;31mNameError\u001b[0m: name 'feature_importances' is not defined"
     ]
    }
   ],
   "source": [
    "feature_importances.drop('ID')"
   ]
  },
  {
   "cell_type": "code",
   "execution_count": 37,
   "id": "3ce94a28-446b-40e3-bf19-e3da4b5b1b9d",
   "metadata": {},
   "outputs": [
    {
     "data": {
      "text/html": [
       "<style>#sk-container-id-3 {color: black;}#sk-container-id-3 pre{padding: 0;}#sk-container-id-3 div.sk-toggleable {background-color: white;}#sk-container-id-3 label.sk-toggleable__label {cursor: pointer;display: block;width: 100%;margin-bottom: 0;padding: 0.3em;box-sizing: border-box;text-align: center;}#sk-container-id-3 label.sk-toggleable__label-arrow:before {content: \"▸\";float: left;margin-right: 0.25em;color: #696969;}#sk-container-id-3 label.sk-toggleable__label-arrow:hover:before {color: black;}#sk-container-id-3 div.sk-estimator:hover label.sk-toggleable__label-arrow:before {color: black;}#sk-container-id-3 div.sk-toggleable__content {max-height: 0;max-width: 0;overflow: hidden;text-align: left;background-color: #f0f8ff;}#sk-container-id-3 div.sk-toggleable__content pre {margin: 0.2em;color: black;border-radius: 0.25em;background-color: #f0f8ff;}#sk-container-id-3 input.sk-toggleable__control:checked~div.sk-toggleable__content {max-height: 200px;max-width: 100%;overflow: auto;}#sk-container-id-3 input.sk-toggleable__control:checked~label.sk-toggleable__label-arrow:before {content: \"▾\";}#sk-container-id-3 div.sk-estimator input.sk-toggleable__control:checked~label.sk-toggleable__label {background-color: #d4ebff;}#sk-container-id-3 div.sk-label input.sk-toggleable__control:checked~label.sk-toggleable__label {background-color: #d4ebff;}#sk-container-id-3 input.sk-hidden--visually {border: 0;clip: rect(1px 1px 1px 1px);clip: rect(1px, 1px, 1px, 1px);height: 1px;margin: -1px;overflow: hidden;padding: 0;position: absolute;width: 1px;}#sk-container-id-3 div.sk-estimator {font-family: monospace;background-color: #f0f8ff;border: 1px dotted black;border-radius: 0.25em;box-sizing: border-box;margin-bottom: 0.5em;}#sk-container-id-3 div.sk-estimator:hover {background-color: #d4ebff;}#sk-container-id-3 div.sk-parallel-item::after {content: \"\";width: 100%;border-bottom: 1px solid gray;flex-grow: 1;}#sk-container-id-3 div.sk-label:hover label.sk-toggleable__label {background-color: #d4ebff;}#sk-container-id-3 div.sk-serial::before {content: \"\";position: absolute;border-left: 1px solid gray;box-sizing: border-box;top: 0;bottom: 0;left: 50%;z-index: 0;}#sk-container-id-3 div.sk-serial {display: flex;flex-direction: column;align-items: center;background-color: white;padding-right: 0.2em;padding-left: 0.2em;position: relative;}#sk-container-id-3 div.sk-item {position: relative;z-index: 1;}#sk-container-id-3 div.sk-parallel {display: flex;align-items: stretch;justify-content: center;background-color: white;position: relative;}#sk-container-id-3 div.sk-item::before, #sk-container-id-3 div.sk-parallel-item::before {content: \"\";position: absolute;border-left: 1px solid gray;box-sizing: border-box;top: 0;bottom: 0;left: 50%;z-index: -1;}#sk-container-id-3 div.sk-parallel-item {display: flex;flex-direction: column;z-index: 1;position: relative;background-color: white;}#sk-container-id-3 div.sk-parallel-item:first-child::after {align-self: flex-end;width: 50%;}#sk-container-id-3 div.sk-parallel-item:last-child::after {align-self: flex-start;width: 50%;}#sk-container-id-3 div.sk-parallel-item:only-child::after {width: 0;}#sk-container-id-3 div.sk-dashed-wrapped {border: 1px dashed gray;margin: 0 0.4em 0.5em 0.4em;box-sizing: border-box;padding-bottom: 0.4em;background-color: white;}#sk-container-id-3 div.sk-label label {font-family: monospace;font-weight: bold;display: inline-block;line-height: 1.2em;}#sk-container-id-3 div.sk-label-container {text-align: center;}#sk-container-id-3 div.sk-container {/* jupyter's `normalize.less` sets `[hidden] { display: none; }` but bootstrap.min.css set `[hidden] { display: none !important; }` so we also need the `!important` here to be able to override the default hidden behavior on the sphinx rendered scikit-learn.org. See: https://github.com/scikit-learn/scikit-learn/issues/21755 */display: inline-block !important;position: relative;}#sk-container-id-3 div.sk-text-repr-fallback {display: none;}</style><div id=\"sk-container-id-3\" class=\"sk-top-container\"><div class=\"sk-text-repr-fallback\"><pre>RandomForestClassifier(max_depth=6, n_estimators=459)</pre><b>In a Jupyter environment, please rerun this cell to show the HTML representation or trust the notebook. <br />On GitHub, the HTML representation is unable to render, please try loading this page with nbviewer.org.</b></div><div class=\"sk-container\" hidden><div class=\"sk-item\"><div class=\"sk-estimator sk-toggleable\"><input class=\"sk-toggleable__control sk-hidden--visually\" id=\"sk-estimator-id-5\" type=\"checkbox\" checked><label for=\"sk-estimator-id-5\" class=\"sk-toggleable__label sk-toggleable__label-arrow\">RandomForestClassifier</label><div class=\"sk-toggleable__content\"><pre>RandomForestClassifier(max_depth=6, n_estimators=459)</pre></div></div></div></div></div>"
      ],
      "text/plain": [
       "RandomForestClassifier(max_depth=6, n_estimators=459)"
      ]
     },
     "execution_count": 37,
     "metadata": {},
     "output_type": "execute_result"
    }
   ],
   "source": [
    "best_rf"
   ]
  },
  {
   "cell_type": "code",
   "execution_count": 38,
   "id": "d5a80a82-f22d-4221-8c2c-461c366dc0d3",
   "metadata": {},
   "outputs": [
    {
     "data": {
      "text/plain": [
       "Mosha                        0.328533\n",
       "Mesatarja_glukozes_niveli    0.266515\n",
       "ID                           0.224477\n",
       "Semundje_zemres              0.085946\n",
       "Duhanpirja                   0.057879\n",
       "Hipertension                 0.020509\n",
       "Infarkt                      0.016141\n",
       "dtype: float64"
      ]
     },
     "execution_count": 38,
     "metadata": {},
     "output_type": "execute_result"
    }
   ],
   "source": [
    "# Create a series containing feature importances from the model and feature names from the training data\n",
    "feature_importances = pd.Series(best_rf.feature_importances_, index=X_train.columns).sort_values(ascending=False)\n",
    "\n",
    "# Plot a simple bar chart\n",
    "feature_importances"
   ]
  },
  {
   "cell_type": "code",
   "execution_count": null,
   "id": "60c4a75b-16bb-44e4-b186-05cadfdd253e",
   "metadata": {},
   "outputs": [],
   "source": []
  }
 ],
 "metadata": {
  "kernelspec": {
   "display_name": "Python 3 (ipykernel)",
   "language": "python",
   "name": "python3"
  },
  "language_info": {
   "codemirror_mode": {
    "name": "ipython",
    "version": 3
   },
   "file_extension": ".py",
   "mimetype": "text/x-python",
   "name": "python",
   "nbconvert_exporter": "python",
   "pygments_lexer": "ipython3",
   "version": "3.9.19"
  }
 },
 "nbformat": 4,
 "nbformat_minor": 5
}
